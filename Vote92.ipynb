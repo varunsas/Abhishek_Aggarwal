{
 "cells": [
  {
   "cell_type": "markdown",
   "metadata": {},
   "source": [
    "# Answer to Question 1 :\n",
    "Reading the csv file using pandas and storing it in a dataframe"
   ]
  },
  {
   "cell_type": "code",
   "execution_count": 45,
   "metadata": {},
   "outputs": [],
   "source": [
    "import pandas as pd\n",
    "data = pd.read_csv(\"C:\\\\Users\\\\VISHAL\\\\Documents\\\\Case Studies_10K\\\\Datasets-20200307T133324Z-001\\\\Datasets\\\\vote92.csv\", header=0, infer_datetime_format=True, parse_dates=[0], index_col=[0])"
   ]
  },
  {
   "cell_type": "code",
   "execution_count": 46,
   "metadata": {},
   "outputs": [
    {
     "data": {
      "text/plain": [
       "(909, 9)"
      ]
     },
     "execution_count": 46,
     "metadata": {},
     "output_type": "execute_result"
    }
   ],
   "source": [
    "# Checking the shape of the data (dimensions)\n",
    "data.shape\n",
    "\n",
    "# 909 rows and 9 columns"
   ]
  },
  {
   "cell_type": "code",
   "execution_count": 3,
   "metadata": {},
   "outputs": [
    {
     "data": {
      "text/html": [
       "<div>\n",
       "<style scoped>\n",
       "    .dataframe tbody tr th:only-of-type {\n",
       "        vertical-align: middle;\n",
       "    }\n",
       "\n",
       "    .dataframe tbody tr th {\n",
       "        vertical-align: top;\n",
       "    }\n",
       "\n",
       "    .dataframe thead th {\n",
       "        text-align: right;\n",
       "    }\n",
       "</style>\n",
       "<table border=\"1\" class=\"dataframe\">\n",
       "  <thead>\n",
       "    <tr style=\"text-align: right;\">\n",
       "      <th></th>\n",
       "      <th>vote</th>\n",
       "      <th>dem</th>\n",
       "      <th>rep</th>\n",
       "      <th>female</th>\n",
       "      <th>persfinance</th>\n",
       "      <th>natlecon</th>\n",
       "      <th>clintondis</th>\n",
       "      <th>bushdis</th>\n",
       "      <th>perotdis</th>\n",
       "    </tr>\n",
       "  </thead>\n",
       "  <tbody>\n",
       "    <tr>\n",
       "      <td>1</td>\n",
       "      <td>Bush</td>\n",
       "      <td>0</td>\n",
       "      <td>1</td>\n",
       "      <td>1</td>\n",
       "      <td>1</td>\n",
       "      <td>0</td>\n",
       "      <td>4.0804</td>\n",
       "      <td>0.1024</td>\n",
       "      <td>0.2601</td>\n",
       "    </tr>\n",
       "    <tr>\n",
       "      <td>2</td>\n",
       "      <td>Bush</td>\n",
       "      <td>0</td>\n",
       "      <td>1</td>\n",
       "      <td>1</td>\n",
       "      <td>0</td>\n",
       "      <td>-1</td>\n",
       "      <td>4.0804</td>\n",
       "      <td>0.1024</td>\n",
       "      <td>0.2601</td>\n",
       "    </tr>\n",
       "    <tr>\n",
       "      <td>3</td>\n",
       "      <td>Clinton</td>\n",
       "      <td>1</td>\n",
       "      <td>0</td>\n",
       "      <td>1</td>\n",
       "      <td>0</td>\n",
       "      <td>-1</td>\n",
       "      <td>1.0404</td>\n",
       "      <td>1.7424</td>\n",
       "      <td>0.2401</td>\n",
       "    </tr>\n",
       "    <tr>\n",
       "      <td>4</td>\n",
       "      <td>Bush</td>\n",
       "      <td>0</td>\n",
       "      <td>1</td>\n",
       "      <td>0</td>\n",
       "      <td>0</td>\n",
       "      <td>-1</td>\n",
       "      <td>0.0004</td>\n",
       "      <td>5.3824</td>\n",
       "      <td>2.2201</td>\n",
       "    </tr>\n",
       "    <tr>\n",
       "      <td>5</td>\n",
       "      <td>Clinton</td>\n",
       "      <td>0</td>\n",
       "      <td>0</td>\n",
       "      <td>1</td>\n",
       "      <td>0</td>\n",
       "      <td>-1</td>\n",
       "      <td>0.9604</td>\n",
       "      <td>11.0220</td>\n",
       "      <td>6.2001</td>\n",
       "    </tr>\n",
       "  </tbody>\n",
       "</table>\n",
       "</div>"
      ],
      "text/plain": [
       "      vote  dem  rep  female  persfinance  natlecon  clintondis  bushdis  \\\n",
       "1     Bush    0    1       1            1         0      4.0804   0.1024   \n",
       "2     Bush    0    1       1            0        -1      4.0804   0.1024   \n",
       "3  Clinton    1    0       1            0        -1      1.0404   1.7424   \n",
       "4     Bush    0    1       0            0        -1      0.0004   5.3824   \n",
       "5  Clinton    0    0       1            0        -1      0.9604  11.0220   \n",
       "\n",
       "   perotdis  \n",
       "1    0.2601  \n",
       "2    0.2601  \n",
       "3    0.2401  \n",
       "4    2.2201  \n",
       "5    6.2001  "
      ]
     },
     "execution_count": 3,
     "metadata": {},
     "output_type": "execute_result"
    }
   ],
   "source": [
    "data.head()"
   ]
  },
  {
   "cell_type": "markdown",
   "metadata": {},
   "source": [
    "# Answer to Question 2 :"
   ]
  },
  {
   "cell_type": "markdown",
   "metadata": {},
   "source": [
    "The key objective of the case study is to  : \n",
    "Model on voter’s probability of voting for a candidate (Perot, Bush or Clinton) : based on the different predictor variables (viz. dem, rep, female, clintondis, bushdis, perotdis, persfinance, natlecon)\n",
    "\n",
    "The response variable here is : vote ( 3 level variable ) \n",
    "\n",
    "The data collected in the given excel file is grouped under which data class : \"Cross Sectional Data\""
   ]
  },
  {
   "cell_type": "markdown",
   "metadata": {},
   "source": [
    "# Answer to Question 3 :"
   ]
  },
  {
   "cell_type": "code",
   "execution_count": 5,
   "metadata": {},
   "outputs": [
    {
     "data": {
      "text/html": [
       "<div>\n",
       "<style scoped>\n",
       "    .dataframe tbody tr th:only-of-type {\n",
       "        vertical-align: middle;\n",
       "    }\n",
       "\n",
       "    .dataframe tbody tr th {\n",
       "        vertical-align: top;\n",
       "    }\n",
       "\n",
       "    .dataframe thead th {\n",
       "        text-align: right;\n",
       "    }\n",
       "</style>\n",
       "<table border=\"1\" class=\"dataframe\">\n",
       "  <thead>\n",
       "    <tr style=\"text-align: right;\">\n",
       "      <th></th>\n",
       "      <th>dem</th>\n",
       "      <th>rep</th>\n",
       "      <th>female</th>\n",
       "      <th>persfinance</th>\n",
       "      <th>natlecon</th>\n",
       "      <th>clintondis</th>\n",
       "      <th>bushdis</th>\n",
       "      <th>perotdis</th>\n",
       "    </tr>\n",
       "  </thead>\n",
       "  <tbody>\n",
       "    <tr>\n",
       "      <td>count</td>\n",
       "      <td>909.000000</td>\n",
       "      <td>909.000000</td>\n",
       "      <td>909.000000</td>\n",
       "      <td>909.000000</td>\n",
       "      <td>909.000000</td>\n",
       "      <td>909.000000</td>\n",
       "      <td>909.000000</td>\n",
       "      <td>909.000000</td>\n",
       "    </tr>\n",
       "    <tr>\n",
       "      <td>mean</td>\n",
       "      <td>0.488449</td>\n",
       "      <td>0.430143</td>\n",
       "      <td>0.475248</td>\n",
       "      <td>-0.009901</td>\n",
       "      <td>-0.672167</td>\n",
       "      <td>3.506218</td>\n",
       "      <td>3.379256</td>\n",
       "      <td>2.171033</td>\n",
       "    </tr>\n",
       "    <tr>\n",
       "      <td>std</td>\n",
       "      <td>0.500142</td>\n",
       "      <td>0.495369</td>\n",
       "      <td>0.499662</td>\n",
       "      <td>0.817560</td>\n",
       "      <td>0.565438</td>\n",
       "      <td>3.889289</td>\n",
       "      <td>4.332017</td>\n",
       "      <td>2.659250</td>\n",
       "    </tr>\n",
       "    <tr>\n",
       "      <td>min</td>\n",
       "      <td>0.000000</td>\n",
       "      <td>0.000000</td>\n",
       "      <td>0.000000</td>\n",
       "      <td>-1.000000</td>\n",
       "      <td>-1.000000</td>\n",
       "      <td>0.000400</td>\n",
       "      <td>0.102400</td>\n",
       "      <td>0.240100</td>\n",
       "    </tr>\n",
       "    <tr>\n",
       "      <td>25%</td>\n",
       "      <td>0.000000</td>\n",
       "      <td>0.000000</td>\n",
       "      <td>0.000000</td>\n",
       "      <td>-1.000000</td>\n",
       "      <td>-1.000000</td>\n",
       "      <td>0.960400</td>\n",
       "      <td>0.462400</td>\n",
       "      <td>0.240100</td>\n",
       "    </tr>\n",
       "    <tr>\n",
       "      <td>50%</td>\n",
       "      <td>0.000000</td>\n",
       "      <td>0.000000</td>\n",
       "      <td>0.000000</td>\n",
       "      <td>0.000000</td>\n",
       "      <td>-1.000000</td>\n",
       "      <td>1.040400</td>\n",
       "      <td>1.742400</td>\n",
       "      <td>2.220100</td>\n",
       "    </tr>\n",
       "    <tr>\n",
       "      <td>75%</td>\n",
       "      <td>1.000000</td>\n",
       "      <td>1.000000</td>\n",
       "      <td>1.000000</td>\n",
       "      <td>1.000000</td>\n",
       "      <td>0.000000</td>\n",
       "      <td>4.080400</td>\n",
       "      <td>5.382400</td>\n",
       "      <td>2.280100</td>\n",
       "    </tr>\n",
       "    <tr>\n",
       "      <td>max</td>\n",
       "      <td>1.000000</td>\n",
       "      <td>1.000000</td>\n",
       "      <td>1.000000</td>\n",
       "      <td>1.000000</td>\n",
       "      <td>1.000000</td>\n",
       "      <td>16.160000</td>\n",
       "      <td>18.662000</td>\n",
       "      <td>12.180000</td>\n",
       "    </tr>\n",
       "  </tbody>\n",
       "</table>\n",
       "</div>"
      ],
      "text/plain": [
       "              dem         rep      female  persfinance    natlecon  \\\n",
       "count  909.000000  909.000000  909.000000   909.000000  909.000000   \n",
       "mean     0.488449    0.430143    0.475248    -0.009901   -0.672167   \n",
       "std      0.500142    0.495369    0.499662     0.817560    0.565438   \n",
       "min      0.000000    0.000000    0.000000    -1.000000   -1.000000   \n",
       "25%      0.000000    0.000000    0.000000    -1.000000   -1.000000   \n",
       "50%      0.000000    0.000000    0.000000     0.000000   -1.000000   \n",
       "75%      1.000000    1.000000    1.000000     1.000000    0.000000   \n",
       "max      1.000000    1.000000    1.000000     1.000000    1.000000   \n",
       "\n",
       "       clintondis     bushdis    perotdis  \n",
       "count  909.000000  909.000000  909.000000  \n",
       "mean     3.506218    3.379256    2.171033  \n",
       "std      3.889289    4.332017    2.659250  \n",
       "min      0.000400    0.102400    0.240100  \n",
       "25%      0.960400    0.462400    0.240100  \n",
       "50%      1.040400    1.742400    2.220100  \n",
       "75%      4.080400    5.382400    2.280100  \n",
       "max     16.160000   18.662000   12.180000  "
      ]
     },
     "execution_count": 5,
     "metadata": {},
     "output_type": "execute_result"
    }
   ],
   "source": [
    "data.describe()"
   ]
  },
  {
   "cell_type": "code",
   "execution_count": null,
   "metadata": {},
   "outputs": [],
   "source": [
    "# Observations :\n",
    "# 416 observations (max) seen for Clinton under vote followed by 310 for Bush and 183 for Perot\n",
    "# The average clintondes is 3.5 followed by bushdis : 3.38 and perotdis : 2.17"
   ]
  },
  {
   "cell_type": "code",
   "execution_count": 6,
   "metadata": {},
   "outputs": [
    {
     "data": {
      "text/plain": [
       "vote            object\n",
       "dem              int64\n",
       "rep              int64\n",
       "female           int64\n",
       "persfinance      int64\n",
       "natlecon         int64\n",
       "clintondis     float64\n",
       "bushdis        float64\n",
       "perotdis       float64\n",
       "dtype: object"
      ]
     },
     "execution_count": 6,
     "metadata": {},
     "output_type": "execute_result"
    }
   ],
   "source": [
    "data.dtypes"
   ]
  },
  {
   "cell_type": "markdown",
   "metadata": {},
   "source": [
    "# Answer to Question 4:"
   ]
  },
  {
   "cell_type": "code",
   "execution_count": 7,
   "metadata": {},
   "outputs": [
    {
     "name": "stdout",
     "output_type": "stream",
     "text": [
      "1         Bush\n",
      "2         Bush\n",
      "3      Clinton\n",
      "4         Bush\n",
      "5      Clinton\n",
      "        ...   \n",
      "905    Clinton\n",
      "906      Perot\n",
      "907    Clinton\n",
      "908       Bush\n",
      "909       Bush\n",
      "Name: vote, Length: 909, dtype: object\n"
     ]
    }
   ],
   "source": [
    "print(data[\"vote\"])\n",
    "\n",
    "# Vote : the response variable is a factor/categorical vatiable with 3 levels (Bush, Clinton & Perot)"
   ]
  },
  {
   "cell_type": "markdown",
   "metadata": {},
   "source": [
    "# Answer to Question 5 :\n",
    "\n",
    "Plotting a histogram for the variable 'vote'"
   ]
  },
  {
   "cell_type": "code",
   "execution_count": 9,
   "metadata": {},
   "outputs": [
    {
     "data": {
      "text/html": [
       "<div>\n",
       "<style scoped>\n",
       "    .dataframe tbody tr th:only-of-type {\n",
       "        vertical-align: middle;\n",
       "    }\n",
       "\n",
       "    .dataframe tbody tr th {\n",
       "        vertical-align: top;\n",
       "    }\n",
       "\n",
       "    .dataframe thead th {\n",
       "        text-align: right;\n",
       "    }\n",
       "</style>\n",
       "<table border=\"1\" class=\"dataframe\">\n",
       "  <thead>\n",
       "    <tr style=\"text-align: right;\">\n",
       "      <th>col_0</th>\n",
       "      <th>count</th>\n",
       "    </tr>\n",
       "    <tr>\n",
       "      <th>vote</th>\n",
       "      <th></th>\n",
       "    </tr>\n",
       "  </thead>\n",
       "  <tbody>\n",
       "    <tr>\n",
       "      <td>Bush</td>\n",
       "      <td>310</td>\n",
       "    </tr>\n",
       "    <tr>\n",
       "      <td>Clinton</td>\n",
       "      <td>416</td>\n",
       "    </tr>\n",
       "    <tr>\n",
       "      <td>Perot</td>\n",
       "      <td>183</td>\n",
       "    </tr>\n",
       "  </tbody>\n",
       "</table>\n",
       "</div>"
      ],
      "text/plain": [
       "col_0    count\n",
       "vote          \n",
       "Bush       310\n",
       "Clinton    416\n",
       "Perot      183"
      ]
     },
     "execution_count": 9,
     "metadata": {},
     "output_type": "execute_result"
    }
   ],
   "source": [
    "my_tab = pd.crosstab(index=data[\"vote\"],  # Make a crosstab\n",
    "                              columns=\"count\")      # Name the count column\n",
    "\n",
    "my_tab"
   ]
  },
  {
   "cell_type": "markdown",
   "metadata": {},
   "source": [
    "Observations :\n",
    "Highest choice of support is for Clinton with 416 votes and least is for Perot with 183 votes"
   ]
  },
  {
   "cell_type": "markdown",
   "metadata": {},
   "source": [
    "# Answer to Question 6:"
   ]
  },
  {
   "cell_type": "code",
   "execution_count": 13,
   "metadata": {},
   "outputs": [
    {
     "data": {
      "text/html": [
       "<div>\n",
       "<style scoped>\n",
       "    .dataframe tbody tr th:only-of-type {\n",
       "        vertical-align: middle;\n",
       "    }\n",
       "\n",
       "    .dataframe tbody tr th {\n",
       "        vertical-align: top;\n",
       "    }\n",
       "\n",
       "    .dataframe thead th {\n",
       "        text-align: right;\n",
       "    }\n",
       "</style>\n",
       "<table border=\"1\" class=\"dataframe\">\n",
       "  <thead>\n",
       "    <tr style=\"text-align: right;\">\n",
       "      <th>vote</th>\n",
       "      <th>Bush</th>\n",
       "      <th>Clinton</th>\n",
       "      <th>Perot</th>\n",
       "    </tr>\n",
       "  </thead>\n",
       "  <tbody>\n",
       "    <tr>\n",
       "      <td>Male</td>\n",
       "      <td>173</td>\n",
       "      <td>193</td>\n",
       "      <td>111</td>\n",
       "    </tr>\n",
       "    <tr>\n",
       "      <td>Female</td>\n",
       "      <td>137</td>\n",
       "      <td>223</td>\n",
       "      <td>72</td>\n",
       "    </tr>\n",
       "  </tbody>\n",
       "</table>\n",
       "</div>"
      ],
      "text/plain": [
       "vote    Bush  Clinton  Perot\n",
       "Male     173      193    111\n",
       "Female   137      223     72"
      ]
     },
     "execution_count": 13,
     "metadata": {},
     "output_type": "execute_result"
    }
   ],
   "source": [
    "# Table of treatment group vs. sex\n",
    "trt_sex = pd.crosstab(index=data[\"female\"], \n",
    "                           columns=data[\"vote\"])\n",
    "\n",
    "trt_sex.index= [\"Male\",\"Female\"]\n",
    "\n",
    "trt_sex"
   ]
  },
  {
   "cell_type": "markdown",
   "metadata": {},
   "source": [
    "# Answer to Question 7:\n",
    "Plot the above created table in a bar chart ?"
   ]
  },
  {
   "cell_type": "code",
   "execution_count": 15,
   "metadata": {},
   "outputs": [
    {
     "data": {
      "text/plain": [
       "<matplotlib.axes._subplots.AxesSubplot at 0x1f4e7fc0308>"
      ]
     },
     "execution_count": 15,
     "metadata": {},
     "output_type": "execute_result"
    },
    {
     "data": {
      "image/png": "[encoded data removed]",
      "text/plain": [
       "<Figure size 576x576 with 1 Axes>"
      ]
     },
     "metadata": {
      "needs_background": "light"
     },
     "output_type": "display_data"
    }
   ],
   "source": [
    "trt_sex.plot(kind=\"bar\", \n",
    "                 figsize=(8,8),\n",
    "                 stacked=True)\n",
    "\n",
    "# Most of the females : 223 out of the total females have given vote choice for Clinton "
   ]
  },
  {
   "cell_type": "markdown",
   "metadata": {},
   "source": [
    "# Answer to Question 8 :"
   ]
  },
  {
   "cell_type": "code",
   "execution_count": 27,
   "metadata": {},
   "outputs": [
    {
     "name": "stdout",
     "output_type": "stream",
     "text": [
      "                 Generalized Linear Model Regression Results                  \n",
      "==============================================================================\n",
      "Dep. Variable:             vote_Perot   No. Observations:                  909\n",
      "Model:                            GLM   Df Residuals:                      905\n",
      "Model Family:                Binomial   Df Model:                            3\n",
      "Link Function:                  logit   Scale:                          1.0000\n",
      "Method:                          IRLS   Log-Likelihood:                -448.25\n",
      "Date:                Wed, 18 Mar 2020   Deviance:                       896.50\n",
      "Time:                        13:27:15   Pearson chi2:                     920.\n",
      "No. Iterations:                     5                                         \n",
      "Covariance Type:            nonrobust                                         \n",
      "==============================================================================\n",
      "                 coef    std err          z      P>|z|      [0.025      0.975]\n",
      "------------------------------------------------------------------------------\n",
      "Intercept     -1.0353      0.158     -6.541      0.000      -1.345      -0.725\n",
      "rep            0.0946      0.170      0.557      0.577      -0.238       0.428\n",
      "female        -0.3950      0.170     -2.320      0.020      -0.729      -0.061\n",
      "perotdis      -0.1080      0.038     -2.847      0.004      -0.182      -0.034\n",
      "==============================================================================\n"
     ]
    }
   ],
   "source": [
    "import statsmodels.api as sm\n",
    "import statsmodels.formula.api as smf\n",
    "data['vote_Perot'] = data['vote'].apply(lambda x: 1 if x == 'Perot' else 0)\n",
    "\n",
    "mylogit = smf.glm(formula='vote_Perot ~ rep + female + perotdis', data=data, family=sm.families.Binomial())\n",
    "res_perot = mylogit.fit()\n",
    "print(res_perot.summary())"
   ]
  },
  {
   "cell_type": "markdown",
   "metadata": {},
   "source": [
    "# Answer to Question 9 :"
   ]
  },
  {
   "cell_type": "code",
   "execution_count": 28,
   "metadata": {},
   "outputs": [
    {
     "name": "stdout",
     "output_type": "stream",
     "text": [
      "[0.20364105 0.20364105 0.1890545  0.23496109 0.10908326 0.06029801\n",
      " 0.15841042 0.27556488 0.17051938 0.27556488]\n"
     ]
    }
   ],
   "source": [
    "predictions = res_perot.predict()\n",
    "print(predictions[0:10])"
   ]
  },
  {
   "cell_type": "markdown",
   "metadata": {},
   "source": [
    "# Answer to Question 10 :"
   ]
  },
  {
   "cell_type": "markdown",
   "metadata": {},
   "source": [
    "Objective of any logit model is to \"maximize likelihood estimation\"\n",
    "\n",
    "How do we achieve this objective ?\n",
    "\n",
    "A probability distribution for the target variable (class label) must be assumed and then a likelihood function defined that calculates the probability of observing the outcome given the input data and the model. \n",
    "This function can then be optimized to find the set of parameters that results in the largest sum likelihood over the training dataset."
   ]
  },
  {
   "cell_type": "markdown",
   "metadata": {},
   "source": [
    "# Answer to Question 11 :"
   ]
  },
  {
   "cell_type": "code",
   "execution_count": 29,
   "metadata": {},
   "outputs": [
    {
     "name": "stdout",
     "output_type": "stream",
     "text": [
      "                 Generalized Linear Model Regression Results                  \n",
      "==============================================================================\n",
      "Dep. Variable:           vote_Clinton   No. Observations:                  909\n",
      "Model:                            GLM   Df Residuals:                      905\n",
      "Model Family:                Binomial   Df Model:                            3\n",
      "Link Function:                  logit   Scale:                          1.0000\n",
      "Method:                          IRLS   Log-Likelihood:                -390.28\n",
      "Date:                Wed, 18 Mar 2020   Deviance:                       780.56\n",
      "Time:                        13:28:18   Pearson chi2:                     897.\n",
      "No. Iterations:                     5                                         \n",
      "Covariance Type:            nonrobust                                         \n",
      "==============================================================================\n",
      "                 coef    std err          z      P>|z|      [0.025      0.975]\n",
      "------------------------------------------------------------------------------\n",
      "Intercept      1.1871      0.150      7.895      0.000       0.892       1.482\n",
      "rep           -3.2879      0.221    -14.905      0.000      -3.720      -2.856\n",
      "female         0.2807      0.180      1.556      0.120      -0.073       0.634\n",
      "clintondis    -0.1129      0.028     -4.028      0.000      -0.168      -0.058\n",
      "==============================================================================\n"
     ]
    }
   ],
   "source": [
    "import statsmodels.api as sm\n",
    "import statsmodels.formula.api as smf\n",
    "data['vote_Clinton'] = data['vote'].apply(lambda x: 1 if x == 'Clinton' else 0)\n",
    "\n",
    "mylogit = smf.glm(formula='vote_Clinton ~ rep + female + clintondis', data=data, family=sm.families.Binomial())\n",
    "res_clinton = mylogit.fit()\n",
    "print(res_clinton.summary())"
   ]
  },
  {
   "cell_type": "markdown",
   "metadata": {},
   "source": [
    "# Answer to Question 12 :"
   ]
  },
  {
   "cell_type": "code",
   "execution_count": 30,
   "metadata": {},
   "outputs": [
    {
     "name": "stdout",
     "output_type": "stream",
     "text": [
      "[0.0927273  0.0927273  0.79417912 0.10901468 0.79565149 0.73597748\n",
      " 0.81270961 0.09812302 0.05469315 0.09812302]\n"
     ]
    }
   ],
   "source": [
    "predictions = res_clinton.predict()\n",
    "print(predictions[0:10])"
   ]
  },
  {
   "cell_type": "markdown",
   "metadata": {},
   "source": [
    "# Answer to Question 13:"
   ]
  },
  {
   "cell_type": "code",
   "execution_count": 31,
   "metadata": {},
   "outputs": [
    {
     "name": "stdout",
     "output_type": "stream",
     "text": [
      "                 Generalized Linear Model Regression Results                  \n",
      "==============================================================================\n",
      "Dep. Variable:              vote_Bush   No. Observations:                  909\n",
      "Model:                            GLM   Df Residuals:                      905\n",
      "Model Family:                Binomial   Df Model:                            3\n",
      "Link Function:                  logit   Scale:                          1.0000\n",
      "Method:                          IRLS   Log-Likelihood:                -350.84\n",
      "Date:                Wed, 18 Mar 2020   Deviance:                       701.68\n",
      "Time:                        13:29:53   Pearson chi2:                     764.\n",
      "No. Iterations:                     6                                         \n",
      "Covariance Type:            nonrobust                                         \n",
      "==============================================================================\n",
      "                 coef    std err          z      P>|z|      [0.025      0.975]\n",
      "------------------------------------------------------------------------------\n",
      "Intercept     -2.0127      0.223     -9.027      0.000      -2.450      -1.576\n",
      "rep            3.0871      0.213     14.489      0.000       2.670       3.505\n",
      "female         0.2633      0.195      1.352      0.176      -0.118       0.645\n",
      "bushdis       -0.2259      0.044     -5.128      0.000      -0.312      -0.140\n",
      "==============================================================================\n"
     ]
    }
   ],
   "source": [
    "import statsmodels.api as sm\n",
    "import statsmodels.formula.api as smf\n",
    "data['vote_Bush'] = data['vote'].apply(lambda x: 1 if x == 'Bush' else 0)\n",
    "\n",
    "mylogit = smf.glm(formula='vote_Bush ~ rep + female + bushdis', data=data, family=sm.families.Binomial())\n",
    "res_bush = mylogit.fit()\n",
    "print(res_bush.summary())"
   ]
  },
  {
   "cell_type": "markdown",
   "metadata": {},
   "source": [
    "# Answer to Question 14:"
   ]
  },
  {
   "cell_type": "code",
   "execution_count": 33,
   "metadata": {},
   "outputs": [
    {
     "name": "stdout",
     "output_type": "stream",
     "text": [
      "[0.78828537 0.78828537 0.10499647 0.46474388 0.0142197  0.00256204\n",
      " 0.04903063 0.66393436 0.77439751 0.66393436]\n"
     ]
    }
   ],
   "source": [
    "predictions = res_bush.predict()\n",
    "print(predictions[0:10])"
   ]
  },
  {
   "cell_type": "markdown",
   "metadata": {},
   "source": [
    "# Answer to Question 15:"
   ]
  },
  {
   "cell_type": "markdown",
   "metadata": {},
   "source": [
    "Looking at the above summaries for the 3 fitted models each for the candidates : Bush, Perot and Clinton,\n",
    "we observe female variable has the positive co-efficient for all 3 models and \n",
    "Negative Log likelihood is max for Perot and Residual Deviance too"
   ]
  },
  {
   "cell_type": "markdown",
   "metadata": {},
   "source": [
    "# Answer to Question 16:"
   ]
  },
  {
   "cell_type": "code",
   "execution_count": 52,
   "metadata": {},
   "outputs": [],
   "source": [
    "data['vote_Bush'] = data['vote'].apply(lambda x: 1 if x == 'Bush' else 0)"
   ]
  },
  {
   "cell_type": "markdown",
   "metadata": {},
   "source": [
    "# Answer to Question 17:"
   ]
  },
  {
   "cell_type": "code",
   "execution_count": 64,
   "metadata": {},
   "outputs": [
    {
     "name": "stdout",
     "output_type": "stream",
     "text": [
      "-11.194128454247444\n",
      "5.808112856876463e-28\n"
     ]
    }
   ],
   "source": [
    "from scipy import stats\n",
    "t_stat, p_val = stats.ttest_ind(data['persfinance'],data['vote_Bush'], equal_var=False)\n",
    "print(t_stat)\n",
    "print(p_val)"
   ]
  },
  {
   "cell_type": "code",
   "execution_count": null,
   "metadata": {},
   "outputs": [],
   "source": [
    "# Observations : \n",
    "# The answer is yes, those who viewed their personal finances as improving were more likely to vote for Bush.\n",
    "# The pvalue indicates that the difference in means between the two groups was highly unlikely to have occured by chance. \n",
    "# It is not impossible, but it is highly unlikely so we can declare there is a significant difference."
   ]
  },
  {
   "cell_type": "markdown",
   "metadata": {},
   "source": [
    "# Answer to Question 18:"
   ]
  },
  {
   "cell_type": "code",
   "execution_count": 50,
   "metadata": {},
   "outputs": [
    {
     "data": {
      "text/plain": [
       "(726, 9)"
      ]
     },
     "execution_count": 50,
     "metadata": {},
     "output_type": "execute_result"
    }
   ],
   "source": [
    "# Get names of indexes for which column vote has Perot\n",
    "# Filter out these row indexes from dataFrame and creating a second dataframe name : vote92b\n",
    "vote92b = data[data['vote']!='Perot']\n",
    "\n",
    "vote92b.shape\n",
    "#It's got 726 rows now"
   ]
  },
  {
   "cell_type": "markdown",
   "metadata": {},
   "source": [
    "# Answer to Question 19:"
   ]
  },
  {
   "cell_type": "code",
   "execution_count": 65,
   "metadata": {},
   "outputs": [
    {
     "name": "stdout",
     "output_type": "stream",
     "text": [
      "                        Generalized Linear Model Regression Results                        \n",
      "===========================================================================================\n",
      "Dep. Variable:     ['vote[Bush]', 'vote[Clinton]']   No. Observations:                  726\n",
      "Model:                                         GLM   Df Residuals:                      718\n",
      "Model Family:                             Binomial   Df Model:                            7\n",
      "Link Function:                               logit   Scale:                          1.0000\n",
      "Method:                                       IRLS   Log-Likelihood:                -179.55\n",
      "Date:                             Wed, 18 Mar 2020   Deviance:                       359.10\n",
      "Time:                                     14:00:15   Pearson chi2:                     558.\n",
      "No. Iterations:                                  7                                         \n",
      "Covariance Type:                         nonrobust                                         \n",
      "===============================================================================\n",
      "                  coef    std err          z      P>|z|      [0.025      0.975]\n",
      "-------------------------------------------------------------------------------\n",
      "Intercept      -0.0026      0.471     -0.005      0.996      -0.925       0.920\n",
      "dem            -1.8915      0.442     -4.282      0.000      -2.757      -1.026\n",
      "rep             2.4944      0.427      5.836      0.000       1.657       3.332\n",
      "female          0.4423      0.291      1.520      0.129      -0.128       1.013\n",
      "clintondis      0.0984      0.041      2.397      0.017       0.018       0.179\n",
      "bushdis        -0.2071      0.055     -3.787      0.000      -0.314      -0.100\n",
      "persfinance     0.2943      0.182      1.615      0.106      -0.063       0.652\n",
      "natlecon        0.9132      0.271      3.374      0.001       0.383       1.444\n",
      "===============================================================================\n"
     ]
    }
   ],
   "source": [
    "binomial_logit = smf.glm(formula='vote ~ dem + rep + female + clintondis + bushdis + persfinance + natlecon', data=vote92b, family=sm.families.Binomial())\n",
    "res_bush_clinton= binomial_logit.fit()\n",
    "print(res_bush_clinton.summary())"
   ]
  },
  {
   "cell_type": "markdown",
   "metadata": {},
   "source": [
    "# Answer to Question: 20 "
   ]
  },
  {
   "cell_type": "code",
   "execution_count": 66,
   "metadata": {},
   "outputs": [
    {
     "name": "stdout",
     "output_type": "stream",
     "text": [
      "                        Generalized Linear Model Regression Results                        \n",
      "===========================================================================================\n",
      "Dep. Variable:     ['vote[Bush]', 'vote[Clinton]']   No. Observations:                  726\n",
      "Model:                                         GLM   Df Residuals:                      716\n",
      "Model Family:                             Binomial   Df Model:                            9\n",
      "Link Function:                               logit   Scale:                          1.0000\n",
      "Method:                                       IRLS   Log-Likelihood:                -178.44\n",
      "Date:                             Wed, 18 Mar 2020   Deviance:                       356.89\n",
      "Time:                                     14:01:30   Pearson chi2:                     558.\n",
      "No. Iterations:                                  7                                         \n",
      "Covariance Type:                         nonrobust                                         \n",
      "=====================================================================================\n",
      "                        coef    std err          z      P>|z|      [0.025      0.975]\n",
      "-------------------------------------------------------------------------------------\n",
      "Intercept            -0.2501      0.504     -0.497      0.619      -1.237       0.737\n",
      "dem                  -1.9747      0.447     -4.419      0.000      -2.850      -1.099\n",
      "rep                   2.4295      0.428      5.674      0.000       1.590       3.269\n",
      "female                1.1056      0.538      2.055      0.040       0.051       2.160\n",
      "clintondis            0.1473      0.059      2.491      0.013       0.031       0.263\n",
      "bushdis              -0.1475      0.070     -2.097      0.036      -0.285      -0.010\n",
      "persfinance           0.2893      0.182      1.587      0.112      -0.068       0.647\n",
      "natlecon              0.9101      0.272      3.351      0.001       0.378       1.442\n",
      "female:clintondis    -0.1026      0.083     -1.239      0.215      -0.265       0.060\n",
      "female:bushdis       -0.1385      0.113     -1.229      0.219      -0.359       0.082\n",
      "=====================================================================================\n"
     ]
    }
   ],
   "source": [
    "# Adding gender based interaction variables wrt. idelological distance\n",
    "binomial_logit = smf.glm(formula='vote ~ dem + rep + female + clintondis + bushdis + persfinance + natlecon+ female : clintondis + female : bushdis', data=vote92b, family=sm.families.Binomial())\n",
    "res_bush_clinton= binomial_logit.fit()\n",
    "print(res_bush_clinton.summary())"
   ]
  }
 ],
 "metadata": {
  "kernelspec": {
   "display_name": "Python 3",
   "language": "python",
   "name": "python3"
  },
  "language_info": {
   "codemirror_mode": {
    "name": "ipython",
    "version": 3
   },
   "file_extension": ".py",
   "mimetype": "text/x-python",
   "name": "python",
   "nbconvert_exporter": "python",
   "pygments_lexer": "ipython3",
   "version": "3.7.4"
  }
 },
 "nbformat": 4,
 "nbformat_minor": 2
}
