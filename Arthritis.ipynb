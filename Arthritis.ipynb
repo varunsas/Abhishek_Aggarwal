{
 "cells": [
  {
   "cell_type": "markdown",
   "metadata": {},
   "source": [
    "# Answer to Question 1 :\n",
    "Reading the csv file using pandas and storing it in a dataframe"
   ]
  },
  {
   "cell_type": "code",
   "execution_count": 26,
   "metadata": {},
   "outputs": [],
   "source": [
    "import pandas as pd\n",
    "data = pd.read_csv(\"C:\\\\Users\\\\VISHAL\\\\Documents\\\\Case Studies_10K\\\\Datasets-20200307T133324Z-001\\\\Datasets\\\\arthritis.csv\", header=0, infer_datetime_format=True, parse_dates=[0], index_col=[0])"
   ]
  },
  {
   "cell_type": "code",
   "execution_count": 2,
   "metadata": {},
   "outputs": [
    {
     "data": {
      "text/plain": [
       "(906, 7)"
      ]
     },
     "execution_count": 2,
     "metadata": {},
     "output_type": "execute_result"
    }
   ],
   "source": [
    "# Checking the shape of the data (dimensions)\n",
    "data.shape\n",
    "\n",
    "# 906 rows and 7 columns"
   ]
  },
  {
   "cell_type": "code",
   "execution_count": 3,
   "metadata": {},
   "outputs": [
    {
     "data": {
      "text/html": [
       "<div>\n",
       "<style scoped>\n",
       "    .dataframe tbody tr th:only-of-type {\n",
       "        vertical-align: middle;\n",
       "    }\n",
       "\n",
       "    .dataframe tbody tr th {\n",
       "        vertical-align: top;\n",
       "    }\n",
       "\n",
       "    .dataframe thead th {\n",
       "        text-align: right;\n",
       "    }\n",
       "</style>\n",
       "<table border=\"1\" class=\"dataframe\">\n",
       "  <thead>\n",
       "    <tr style=\"text-align: right;\">\n",
       "      <th></th>\n",
       "      <th>id</th>\n",
       "      <th>y</th>\n",
       "      <th>sex</th>\n",
       "      <th>age</th>\n",
       "      <th>trt</th>\n",
       "      <th>baseline</th>\n",
       "      <th>time</th>\n",
       "    </tr>\n",
       "  </thead>\n",
       "  <tbody>\n",
       "    <tr>\n",
       "      <td>1</td>\n",
       "      <td>1</td>\n",
       "      <td>4.0</td>\n",
       "      <td>2</td>\n",
       "      <td>54</td>\n",
       "      <td>2</td>\n",
       "      <td>2</td>\n",
       "      <td>1</td>\n",
       "    </tr>\n",
       "    <tr>\n",
       "      <td>2</td>\n",
       "      <td>1</td>\n",
       "      <td>5.0</td>\n",
       "      <td>2</td>\n",
       "      <td>54</td>\n",
       "      <td>2</td>\n",
       "      <td>2</td>\n",
       "      <td>3</td>\n",
       "    </tr>\n",
       "    <tr>\n",
       "      <td>3</td>\n",
       "      <td>1</td>\n",
       "      <td>5.0</td>\n",
       "      <td>2</td>\n",
       "      <td>54</td>\n",
       "      <td>2</td>\n",
       "      <td>2</td>\n",
       "      <td>5</td>\n",
       "    </tr>\n",
       "    <tr>\n",
       "      <td>4</td>\n",
       "      <td>2</td>\n",
       "      <td>4.0</td>\n",
       "      <td>1</td>\n",
       "      <td>41</td>\n",
       "      <td>1</td>\n",
       "      <td>3</td>\n",
       "      <td>1</td>\n",
       "    </tr>\n",
       "    <tr>\n",
       "      <td>5</td>\n",
       "      <td>2</td>\n",
       "      <td>4.0</td>\n",
       "      <td>1</td>\n",
       "      <td>41</td>\n",
       "      <td>1</td>\n",
       "      <td>3</td>\n",
       "      <td>3</td>\n",
       "    </tr>\n",
       "  </tbody>\n",
       "</table>\n",
       "</div>"
      ],
      "text/plain": [
       "   id    y  sex  age  trt  baseline  time\n",
       "1   1  4.0    2   54    2         2     1\n",
       "2   1  5.0    2   54    2         2     3\n",
       "3   1  5.0    2   54    2         2     5\n",
       "4   2  4.0    1   41    1         3     1\n",
       "5   2  4.0    1   41    1         3     3"
      ]
     },
     "execution_count": 3,
     "metadata": {},
     "output_type": "execute_result"
    }
   ],
   "source": [
    "data.head()"
   ]
  },
  {
   "cell_type": "markdown",
   "metadata": {},
   "source": [
    "# Answer to Question 2 :"
   ]
  },
  {
   "cell_type": "markdown",
   "metadata": {},
   "source": [
    "\n",
    "The key objective of the case study is to Evaluate the effectiveness of the drug auranofin versus the placebo therapy for the treatment of rheumatoid arthritis. \n",
    "The response variable : y using the predictor variables given in the dataset like sex, age, trt , baseline & time\n",
    "\n",
    "The data collected in the given excel file is grouped under which data class \"Longitudinal or Panel Data\"\n"
   ]
  },
  {
   "cell_type": "markdown",
   "metadata": {},
   "source": [
    "# Answer to Question 3 :"
   ]
  },
  {
   "cell_type": "code",
   "execution_count": 4,
   "metadata": {},
   "outputs": [
    {
     "name": "stdout",
     "output_type": "stream",
     "text": [
      "1      4.0\n",
      "2      5.0\n",
      "3      5.0\n",
      "4      4.0\n",
      "5      4.0\n",
      "      ... \n",
      "902    2.0\n",
      "903    2.0\n",
      "904    2.0\n",
      "905    3.0\n",
      "906    3.0\n",
      "Name: y, Length: 906, dtype: float64\n"
     ]
    }
   ],
   "source": [
    "print(data[\"y\"])"
   ]
  },
  {
   "cell_type": "markdown",
   "metadata": {},
   "source": [
    "Comments/Observations :\n",
    "The response variable has numbers ranging from 1 to 5 (it's a ordinal variable on a 1 to 5 measured scale)"
   ]
  },
  {
   "cell_type": "markdown",
   "metadata": {},
   "source": [
    "# Answer to Question 4 :\n",
    "\n",
    "Plotting a Scatterplot matrix"
   ]
  },
  {
   "cell_type": "code",
   "execution_count": 32,
   "metadata": {},
   "outputs": [
    {
     "data": {
      "text/plain": [
       "array([[<matplotlib.axes._subplots.AxesSubplot object at 0x000001FDAF4009C8>,\n",
       "        <matplotlib.axes._subplots.AxesSubplot object at 0x000001FDAF49B188>,\n",
       "        <matplotlib.axes._subplots.AxesSubplot object at 0x000001FDAF4CE648>,\n",
       "        <matplotlib.axes._subplots.AxesSubplot object at 0x000001FDAF4FFC88>,\n",
       "        <matplotlib.axes._subplots.AxesSubplot object at 0x000001FDAF539308>,\n",
       "        <matplotlib.axes._subplots.AxesSubplot object at 0x000001FDAF568E48>,\n",
       "        <matplotlib.axes._subplots.AxesSubplot object at 0x000001FDAF59FBC8>],\n",
       "       [<matplotlib.axes._subplots.AxesSubplot object at 0x000001FDAF5DA948>,\n",
       "        <matplotlib.axes._subplots.AxesSubplot object at 0x000001FDAF5E07C8>,\n",
       "        <matplotlib.axes._subplots.AxesSubplot object at 0x000001FDAF617748>,\n",
       "        <matplotlib.axes._subplots.AxesSubplot object at 0x000001FDAF67A608>,\n",
       "        <matplotlib.axes._subplots.AxesSubplot object at 0x000001FDAF252E48>,\n",
       "        <matplotlib.axes._subplots.AxesSubplot object at 0x000001FDAF31DE88>,\n",
       "        <matplotlib.axes._subplots.AxesSubplot object at 0x000001FDAD60B788>],\n",
       "       [<matplotlib.axes._subplots.AxesSubplot object at 0x000001FDAF6AF888>,\n",
       "        <matplotlib.axes._subplots.AxesSubplot object at 0x000001FDAF6E99C8>,\n",
       "        <matplotlib.axes._subplots.AxesSubplot object at 0x000001FDAF721A48>,\n",
       "        <matplotlib.axes._subplots.AxesSubplot object at 0x000001FDAF758B48>,\n",
       "        <matplotlib.axes._subplots.AxesSubplot object at 0x000001FDAF792C88>,\n",
       "        <matplotlib.axes._subplots.AxesSubplot object at 0x000001FDAF7C9DC8>,\n",
       "        <matplotlib.axes._subplots.AxesSubplot object at 0x000001FDAF801EC8>],\n",
       "       [<matplotlib.axes._subplots.AxesSubplot object at 0x000001FDAF83AF48>,\n",
       "        <matplotlib.axes._subplots.AxesSubplot object at 0x000001FDAF8790C8>,\n",
       "        <matplotlib.axes._subplots.AxesSubplot object at 0x000001FDAF8B21C8>,\n",
       "        <matplotlib.axes._subplots.AxesSubplot object at 0x000001FDAF8E92C8>,\n",
       "        <matplotlib.axes._subplots.AxesSubplot object at 0x000001FDAF923408>,\n",
       "        <matplotlib.axes._subplots.AxesSubplot object at 0x000001FDAF95C508>,\n",
       "        <matplotlib.axes._subplots.AxesSubplot object at 0x000001FDAF994588>],\n",
       "       [<matplotlib.axes._subplots.AxesSubplot object at 0x000001FDAF9CB6C8>,\n",
       "        <matplotlib.axes._subplots.AxesSubplot object at 0x000001FDAFA057C8>,\n",
       "        <matplotlib.axes._subplots.AxesSubplot object at 0x000001FDAFA3D8C8>,\n",
       "        <matplotlib.axes._subplots.AxesSubplot object at 0x000001FDAFA76A08>,\n",
       "        <matplotlib.axes._subplots.AxesSubplot object at 0x000001FDAFAB1A88>,\n",
       "        <matplotlib.axes._subplots.AxesSubplot object at 0x000001FDAFAE7B88>,\n",
       "        <matplotlib.axes._subplots.AxesSubplot object at 0x000001FDAFB1FCC8>],\n",
       "       [<matplotlib.axes._subplots.AxesSubplot object at 0x000001FDAFB58DC8>,\n",
       "        <matplotlib.axes._subplots.AxesSubplot object at 0x000001FDAFB91EC8>,\n",
       "        <matplotlib.axes._subplots.AxesSubplot object at 0x000001FDAFBCAFC8>,\n",
       "        <matplotlib.axes._subplots.AxesSubplot object at 0x000001FDAFC05108>,\n",
       "        <matplotlib.axes._subplots.AxesSubplot object at 0x000001FDAFC40208>,\n",
       "        <matplotlib.axes._subplots.AxesSubplot object at 0x000001FDAFC7A308>,\n",
       "        <matplotlib.axes._subplots.AxesSubplot object at 0x000001FDAFCB3448>],\n",
       "       [<matplotlib.axes._subplots.AxesSubplot object at 0x000001FDAFCEB508>,\n",
       "        <matplotlib.axes._subplots.AxesSubplot object at 0x000001FDAFD24608>,\n",
       "        <matplotlib.axes._subplots.AxesSubplot object at 0x000001FDAFD5C748>,\n",
       "        <matplotlib.axes._subplots.AxesSubplot object at 0x000001FDAFD94848>,\n",
       "        <matplotlib.axes._subplots.AxesSubplot object at 0x000001FDAFDCD948>,\n",
       "        <matplotlib.axes._subplots.AxesSubplot object at 0x000001FDAFE06A08>,\n",
       "        <matplotlib.axes._subplots.AxesSubplot object at 0x000001FDAFE3CB08>]],\n",
       "      dtype=object)"
      ]
     },
     "execution_count": 32,
     "metadata": {},
     "output_type": "execute_result"
    },
    {
     "data": {
      "image/png": "[encoded data removed]",
      "text/plain": [
       "<Figure size 504x504 with 49 Axes>"
      ]
     },
     "metadata": {
      "needs_background": "light"
     },
     "output_type": "display_data"
    }
   ],
   "source": [
    "import numpy as np\n",
    "import matplotlib.pyplot as plt\n",
    "from pandas.plotting import scatter_matrix\n",
    "\n",
    "scatter_matrix(data,figsize=(7,7), diagonal='kde')"
   ]
  },
  {
   "cell_type": "markdown",
   "metadata": {},
   "source": [
    "# Answer to Question 5 :"
   ]
  },
  {
   "cell_type": "code",
   "execution_count": 34,
   "metadata": {},
   "outputs": [
    {
     "data": {
      "text/html": [
       "<div>\n",
       "<style scoped>\n",
       "    .dataframe tbody tr th:only-of-type {\n",
       "        vertical-align: middle;\n",
       "    }\n",
       "\n",
       "    .dataframe tbody tr th {\n",
       "        vertical-align: top;\n",
       "    }\n",
       "\n",
       "    .dataframe thead th {\n",
       "        text-align: right;\n",
       "    }\n",
       "</style>\n",
       "<table border=\"1\" class=\"dataframe\">\n",
       "  <thead>\n",
       "    <tr style=\"text-align: right;\">\n",
       "      <th></th>\n",
       "      <th>id</th>\n",
       "      <th>y</th>\n",
       "      <th>sex</th>\n",
       "      <th>age</th>\n",
       "      <th>baseline</th>\n",
       "      <th>time</th>\n",
       "    </tr>\n",
       "  </thead>\n",
       "  <tbody>\n",
       "    <tr>\n",
       "      <td>count</td>\n",
       "      <td>906.000000</td>\n",
       "      <td>888.000000</td>\n",
       "      <td>906.000000</td>\n",
       "      <td>906.000000</td>\n",
       "      <td>906.000000</td>\n",
       "      <td>906.000000</td>\n",
       "    </tr>\n",
       "    <tr>\n",
       "      <td>mean</td>\n",
       "      <td>151.500000</td>\n",
       "      <td>3.227477</td>\n",
       "      <td>1.725166</td>\n",
       "      <td>50.377483</td>\n",
       "      <td>2.864238</td>\n",
       "      <td>3.000000</td>\n",
       "    </tr>\n",
       "    <tr>\n",
       "      <td>std</td>\n",
       "      <td>87.227565</td>\n",
       "      <td>0.963862</td>\n",
       "      <td>0.446677</td>\n",
       "      <td>11.103377</td>\n",
       "      <td>0.927363</td>\n",
       "      <td>1.633895</td>\n",
       "    </tr>\n",
       "    <tr>\n",
       "      <td>min</td>\n",
       "      <td>1.000000</td>\n",
       "      <td>1.000000</td>\n",
       "      <td>1.000000</td>\n",
       "      <td>21.000000</td>\n",
       "      <td>1.000000</td>\n",
       "      <td>1.000000</td>\n",
       "    </tr>\n",
       "    <tr>\n",
       "      <td>25%</td>\n",
       "      <td>76.000000</td>\n",
       "      <td>3.000000</td>\n",
       "      <td>1.000000</td>\n",
       "      <td>42.000000</td>\n",
       "      <td>2.000000</td>\n",
       "      <td>1.000000</td>\n",
       "    </tr>\n",
       "    <tr>\n",
       "      <td>50%</td>\n",
       "      <td>151.500000</td>\n",
       "      <td>3.000000</td>\n",
       "      <td>2.000000</td>\n",
       "      <td>54.000000</td>\n",
       "      <td>3.000000</td>\n",
       "      <td>3.000000</td>\n",
       "    </tr>\n",
       "    <tr>\n",
       "      <td>75%</td>\n",
       "      <td>227.000000</td>\n",
       "      <td>4.000000</td>\n",
       "      <td>2.000000</td>\n",
       "      <td>60.000000</td>\n",
       "      <td>3.000000</td>\n",
       "      <td>5.000000</td>\n",
       "    </tr>\n",
       "    <tr>\n",
       "      <td>max</td>\n",
       "      <td>302.000000</td>\n",
       "      <td>5.000000</td>\n",
       "      <td>2.000000</td>\n",
       "      <td>66.000000</td>\n",
       "      <td>5.000000</td>\n",
       "      <td>5.000000</td>\n",
       "    </tr>\n",
       "  </tbody>\n",
       "</table>\n",
       "</div>"
      ],
      "text/plain": [
       "               id           y         sex         age    baseline        time\n",
       "count  906.000000  888.000000  906.000000  906.000000  906.000000  906.000000\n",
       "mean   151.500000    3.227477    1.725166   50.377483    2.864238    3.000000\n",
       "std     87.227565    0.963862    0.446677   11.103377    0.927363    1.633895\n",
       "min      1.000000    1.000000    1.000000   21.000000    1.000000    1.000000\n",
       "25%     76.000000    3.000000    1.000000   42.000000    2.000000    1.000000\n",
       "50%    151.500000    3.000000    2.000000   54.000000    3.000000    3.000000\n",
       "75%    227.000000    4.000000    2.000000   60.000000    3.000000    5.000000\n",
       "max    302.000000    5.000000    2.000000   66.000000    5.000000    5.000000"
      ]
     },
     "execution_count": 34,
     "metadata": {},
     "output_type": "execute_result"
    }
   ],
   "source": [
    "data.describe()"
   ]
  },
  {
   "cell_type": "code",
   "execution_count": null,
   "metadata": {},
   "outputs": [],
   "source": [
    "# Observations :\n",
    "# The mean age is 50 years with maximum being 66 of the 302 patients\n",
    "# The average self assessment score given has been 3.227 out of the max 5"
   ]
  },
  {
   "cell_type": "code",
   "execution_count": 33,
   "metadata": {},
   "outputs": [
    {
     "data": {
      "text/plain": [
       "id             int64\n",
       "y            float64\n",
       "sex            int64\n",
       "age            int64\n",
       "trt         category\n",
       "baseline       int64\n",
       "time           int64\n",
       "dtype: object"
      ]
     },
     "execution_count": 33,
     "metadata": {},
     "output_type": "execute_result"
    }
   ],
   "source": [
    "data['trt'] = data.trt.astype('category')\n",
    "data.dtypes\n",
    "# Another method to do the same as above "
   ]
  },
  {
   "cell_type": "markdown",
   "metadata": {},
   "source": [
    "# Answer to Question 6 :\n",
    "\n",
    "Plotting a histogram for the variable 'Trt'"
   ]
  },
  {
   "cell_type": "code",
   "execution_count": 7,
   "metadata": {},
   "outputs": [
    {
     "data": {
      "text/plain": [
       "<matplotlib.axes._subplots.AxesSubplot at 0x1fdabcc0088>"
      ]
     },
     "execution_count": 7,
     "metadata": {},
     "output_type": "execute_result"
    },
    {
     "data": {
      "image/png": "[encoded data removed]",
      "text/plain": [
       "<Figure size 432x288 with 1 Axes>"
      ]
     },
     "metadata": {
      "needs_background": "light"
     },
     "output_type": "display_data"
    }
   ],
   "source": [
    "my_tab = pd.crosstab(index = data[\"trt\"],  # Make a crosstab\n",
    "                              columns=\"count\")      # Name the count column\n",
    "\n",
    "my_tab.plot.bar()"
   ]
  },
  {
   "cell_type": "code",
   "execution_count": 8,
   "metadata": {},
   "outputs": [
    {
     "data": {
      "text/html": [
       "<div>\n",
       "<style scoped>\n",
       "    .dataframe tbody tr th:only-of-type {\n",
       "        vertical-align: middle;\n",
       "    }\n",
       "\n",
       "    .dataframe tbody tr th {\n",
       "        vertical-align: top;\n",
       "    }\n",
       "\n",
       "    .dataframe thead th {\n",
       "        text-align: right;\n",
       "    }\n",
       "</style>\n",
       "<table border=\"1\" class=\"dataframe\">\n",
       "  <thead>\n",
       "    <tr style=\"text-align: right;\">\n",
       "      <th>col_0</th>\n",
       "      <th>count</th>\n",
       "    </tr>\n",
       "    <tr>\n",
       "      <th>trt</th>\n",
       "      <th></th>\n",
       "    </tr>\n",
       "  </thead>\n",
       "  <tbody>\n",
       "    <tr>\n",
       "      <td>1</td>\n",
       "      <td>447</td>\n",
       "    </tr>\n",
       "    <tr>\n",
       "      <td>2</td>\n",
       "      <td>459</td>\n",
       "    </tr>\n",
       "  </tbody>\n",
       "</table>\n",
       "</div>"
      ],
      "text/plain": [
       "col_0  count\n",
       "trt         \n",
       "1        447\n",
       "2        459"
      ]
     },
     "execution_count": 8,
     "metadata": {},
     "output_type": "execute_result"
    }
   ],
   "source": [
    "my_tab = pd.crosstab(index=data[\"trt\"],  # Make a crosstab\n",
    "                              columns=\"count\")      # Name the count column\n",
    "\n",
    "my_tab"
   ]
  },
  {
   "cell_type": "markdown",
   "metadata": {},
   "source": [
    "Observations :\n",
    "We observe Treatment group 2 (Drug Group) has higher count of rows compared to treatment group 1 (Placebo group) in the dataset"
   ]
  },
  {
   "cell_type": "markdown",
   "metadata": {},
   "source": [
    "# Answer to Question 7 :\n",
    "\n",
    "Creating frequency tables(crosstabs) for the variable 'Age'"
   ]
  },
  {
   "cell_type": "code",
   "execution_count": 9,
   "metadata": {},
   "outputs": [
    {
     "data": {
      "text/plain": [
       "55    66\n",
       "Name: age, dtype: int64"
      ]
     },
     "execution_count": 9,
     "metadata": {},
     "output_type": "execute_result"
    }
   ],
   "source": [
    "data['age'].value_counts().head(1)\n",
    "# Clearly seen, Age 55 has 66 observations which has the maximum count against all other age groups"
   ]
  },
  {
   "cell_type": "markdown",
   "metadata": {},
   "source": [
    "# Answer to Question 8:"
   ]
  },
  {
   "cell_type": "markdown",
   "metadata": {},
   "source": [
    "Box Plot : Age vs Trt"
   ]
  },
  {
   "cell_type": "code",
   "execution_count": 12,
   "metadata": {},
   "outputs": [
    {
     "data": {
      "text/plain": [
       "<matplotlib.axes._subplots.AxesSubplot at 0x1fdabd86908>"
      ]
     },
     "execution_count": 12,
     "metadata": {},
     "output_type": "execute_result"
    },
    {
     "data": {
      "image/png": "[encoded data removed]",
      "text/plain": [
       "<Figure size 576x576 with 1 Axes>"
      ]
     },
     "metadata": {
      "needs_background": "light"
     },
     "output_type": "display_data"
    }
   ],
   "source": [
    "data.boxplot(column=\"age\",        # Column to plot\n",
    "                 by= \"trt\",         # Column to split upon\n",
    "                 figsize= (8,8))        # Figure size"
   ]
  },
  {
   "cell_type": "markdown",
   "metadata": {},
   "source": [
    "Observation:\n",
    "It can be seen that the distribution of articles for both the treatment groups are quite similar wrt. age of patients,\n",
    "Also : Median age is higher for Trt 1 than Trt 2 group\n",
    "Skewness is towards the left, clearly seen from the plot above"
   ]
  },
  {
   "cell_type": "markdown",
   "metadata": {},
   "source": [
    "# Answer to Question 9:\n",
    "Create a two-way frequency table for trt vs sex variables ?"
   ]
  },
  {
   "cell_type": "code",
   "execution_count": 13,
   "metadata": {},
   "outputs": [
    {
     "data": {
      "text/html": [
       "<div>\n",
       "<style scoped>\n",
       "    .dataframe tbody tr th:only-of-type {\n",
       "        vertical-align: middle;\n",
       "    }\n",
       "\n",
       "    .dataframe tbody tr th {\n",
       "        vertical-align: top;\n",
       "    }\n",
       "\n",
       "    .dataframe thead th {\n",
       "        text-align: right;\n",
       "    }\n",
       "</style>\n",
       "<table border=\"1\" class=\"dataframe\">\n",
       "  <thead>\n",
       "    <tr style=\"text-align: right;\">\n",
       "      <th>sex</th>\n",
       "      <th>1</th>\n",
       "      <th>2</th>\n",
       "    </tr>\n",
       "  </thead>\n",
       "  <tbody>\n",
       "    <tr>\n",
       "      <td>1 : Treatment Group</td>\n",
       "      <td>129</td>\n",
       "      <td>318</td>\n",
       "    </tr>\n",
       "    <tr>\n",
       "      <td>2 : Drug Group</td>\n",
       "      <td>120</td>\n",
       "      <td>339</td>\n",
       "    </tr>\n",
       "  </tbody>\n",
       "</table>\n",
       "</div>"
      ],
      "text/plain": [
       "sex                    1    2\n",
       "1 : Treatment Group  129  318\n",
       "2 : Drug Group       120  339"
      ]
     },
     "execution_count": 13,
     "metadata": {},
     "output_type": "execute_result"
    }
   ],
   "source": [
    "# Table of treatment group vs. sex\n",
    "trt_sex = pd.crosstab(index=data[\"trt\"], \n",
    "                           columns=data[\"sex\"])\n",
    "\n",
    "trt_sex.index= [\"1 : Treatment Group\",\"2 : Drug Group\"]\n",
    "\n",
    "trt_sex"
   ]
  },
  {
   "cell_type": "markdown",
   "metadata": {},
   "source": [
    "# Answer to Question 10:\n",
    "Plot the above created table in a bar chart ?"
   ]
  },
  {
   "cell_type": "code",
   "execution_count": 14,
   "metadata": {},
   "outputs": [
    {
     "data": {
      "text/plain": [
       "<matplotlib.axes._subplots.AxesSubplot at 0x1fdabe22488>"
      ]
     },
     "execution_count": 14,
     "metadata": {},
     "output_type": "execute_result"
    },
    {
     "data": {
      "image/png": "[encoded data removed]",
      "text/plain": [
       "<Figure size 576x576 with 1 Axes>"
      ]
     },
     "metadata": {
      "needs_background": "light"
     },
     "output_type": "display_data"
    }
   ],
   "source": [
    "trt_sex.plot(kind=\"bar\", \n",
    "                 figsize=(8,8),\n",
    "                 stacked=False)"
   ]
  },
  {
   "cell_type": "markdown",
   "metadata": {},
   "source": [
    "# Answer to Question 11:\n",
    "Plot the age vs baseline variables on a box plot and comment on the observations  ?"
   ]
  },
  {
   "cell_type": "code",
   "execution_count": 15,
   "metadata": {},
   "outputs": [
    {
     "data": {
      "text/plain": [
       "<matplotlib.axes._subplots.AxesSubplot at 0x1fdabdf9c48>"
      ]
     },
     "execution_count": 15,
     "metadata": {},
     "output_type": "execute_result"
    },
    {
     "data": {
      "image/png": "[encoded data removed]",
      "text/plain": [
       "<Figure size 576x576 with 1 Axes>"
      ]
     },
     "metadata": {
      "needs_background": "light"
     },
     "output_type": "display_data"
    }
   ],
   "source": [
    "data.boxplot(column=\"age\",        # Column to plot\n",
    "                 by= \"baseline\",         # Column to split upon\n",
    "                 figsize= (8,8))        # Figure size"
   ]
  },
  {
   "cell_type": "markdown",
   "metadata": {},
   "source": [
    "Observations:\n",
    "1) Potential Outliers for baseline 1 and 4 in the lower age group compared to others\n",
    "2) Also : Median age is the highest for Baseline 1 followed by 2,4,5 and 3\n",
    "3) Skewness is towards the left, clearly seen from the plot above"
   ]
  },
  {
   "cell_type": "markdown",
   "metadata": {},
   "source": [
    "# Answer to Question 12 :"
   ]
  },
  {
   "cell_type": "markdown",
   "metadata": {},
   "source": [
    "The response of interest is often a categorical variable, whether binary, nominal, or ordinal\n",
    "Here : the response variable 'y' is ordinal.\n",
    "\n",
    "Often the categorical responses will be correlated in clusters, e.g., in \"repeated measure\" studies.\n",
    "\n",
    "The observations within a cluster will often be positively correlated, i.e., the observations will tend to be more like each other than like observations from other clusters. \n",
    "This correlation must be taken into account when analyzing clustered studies for proper inference and valid hypothesis testing\n",
    "\n",
    "Generalized estimating equations (GEE) or Generalized Linear Mixed (GLMM) modeling approach is useful for analyzing such correlated data with categorical or continuous responses\n"
   ]
  },
  {
   "cell_type": "markdown",
   "metadata": {},
   "source": [
    "# Answer to Question 13:"
   ]
  },
  {
   "cell_type": "markdown",
   "metadata": {},
   "source": [
    "I.I.D stands for : Independent and identically distributed\n",
    "Assumption : Measured values of dependent variables or predictor variables are independent from each other.\n",
    "\n",
    "Values repeatedly measured in the same individual are usually more similar to each other than values from different individuals : therefore not independent and hence this is a violation. \n",
    "\n",
    "GEE method with a cumulative logit marginal model is proposed to solve here\n",
    "We use a technique that focuses on specifying the mean response of the outcome : (a marginal approach or population average approach) to estimate regression parameters that is valid in the presence of correlated measurements\n",
    "\n",
    "GEE models and  Mixed effects model decompose variance to some extent and make them I.I.D\n",
    "Both GEE and GLMM are used when the assumption of independence is violated\n"
   ]
  },
  {
   "cell_type": "markdown",
   "metadata": {},
   "source": [
    "# Answer to Question 14 :"
   ]
  },
  {
   "cell_type": "markdown",
   "metadata": {},
   "source": [
    "GEE is the extension of generalized linear models (GLM) to longitudinal data. \n",
    "Logistic regression with correlated errors : GEE\n",
    "The GEE method was developed by Liang and Zeger (1986) in order to produce regression estimates when analyzing repeated measures with non-normal response variables.\n",
    "The goal is to make inferences about the population when accounting for the within-subject correlation\n",
    "For every one-unit increase in a covariate across the population, GEE tells us how much the average response would change\n",
    "\n",
    "Assumptions of GEE :\n",
    "i) Measurements are independent across clusters\n",
    "ii) Measurements may be correlated within cluster\n",
    "\n",
    "The package to be used to implement GEE in Python is :\n",
    "import statsmodels.api as sm\n",
    "import statsmodels.formula.api as smf (smf.gee)"
   ]
  },
  {
   "cell_type": "markdown",
   "metadata": {},
   "source": [
    "# Answer to Question 15 :"
   ]
  },
  {
   "cell_type": "markdown",
   "metadata": {},
   "source": [
    "The package to be used to implement GEE in Python is :\n",
    "import statsmodels.api as sm\n",
    "import statsmodels.formula.api as smf (smf.gee)"
   ]
  },
  {
   "cell_type": "markdown",
   "metadata": {},
   "source": [
    "# Answer to Question 16:"
   ]
  },
  {
   "cell_type": "markdown",
   "metadata": {},
   "source": [
    "GEE estimates are the same as \"Ordinary Least Squares (OLS)\" if the dependent variable is normally distributed and no correlation within responses are assumed"
   ]
  },
  {
   "cell_type": "markdown",
   "metadata": {},
   "source": [
    "# Answer to Question 17:"
   ]
  },
  {
   "cell_type": "markdown",
   "metadata": {},
   "source": [
    "GLMM vs GEE models\n",
    "\n",
    "GLMM : Generalized Linear Mixed Models  (Mixed effects models)\n",
    "GEE  : Generalized Estimating equations (Marginal models )\n",
    "\n",
    "Both use different approach to account for non independence of repeated measurements\n",
    "While marginal models focus on the mean outcome, mixed effect models provide a fully specified mode for multivariate distribution of the repeatedly measured outcome\n"
   ]
  },
  {
   "cell_type": "markdown",
   "metadata": {},
   "source": [
    "# Answer to Question 18:"
   ]
  },
  {
   "cell_type": "markdown",
   "metadata": {},
   "source": [
    "If the response variable y were not repeated and Multi class ordinal level data,\n",
    "Proportional odds ordinal logistic regression model is the best model to be chosen\n",
    "Implemented in Python using \"mord\""
   ]
  },
  {
   "cell_type": "markdown",
   "metadata": {},
   "source": [
    "# Answer to Question 19:"
   ]
  },
  {
   "cell_type": "markdown",
   "metadata": {},
   "source": [
    "we fit a GEE model in which the working dependence structure specifies no dependence within subjects."
   ]
  },
  {
   "cell_type": "code",
   "execution_count": 27,
   "metadata": {},
   "outputs": [
    {
     "name": "stdout",
     "output_type": "stream",
     "text": [
      "                               GEE Regression Results                              \n",
      "===================================================================================\n",
      "Dep. Variable:                           y   No. Observations:                  888\n",
      "Model:                                 GEE   No. clusters:                        2\n",
      "Method:                        Generalized   Min. cluster size:                 443\n",
      "                      Estimating Equations   Max. cluster size:                 445\n",
      "Family:                            Poisson   Mean cluster size:               444.0\n",
      "Dependence structure:         Independence   Num. iterations:                     2\n",
      "Date:                     Tue, 10 Mar 2020   Scale:                           1.000\n",
      "Covariance type:                    robust   Time:                         18:43:58\n",
      "==============================================================================\n",
      "                 coef    std err          z      P>|z|      [0.025      0.975]\n",
      "------------------------------------------------------------------------------\n",
      "Intercept      0.6334      0.082      7.739      0.000       0.473       0.794\n",
      "time           0.0133      0.004      3.369      0.001       0.006       0.021\n",
      "trt            0.0920      0.000    471.437      0.000       0.092       0.092\n",
      "baseline       0.1230      0.032      3.887      0.000       0.061       0.185\n",
      "==============================================================================\n",
      "Skew:                         -0.1086   Kurtosis:                       0.0157\n",
      "Centered skew:                -0.1086   Centered kurtosis:              0.0157\n",
      "==============================================================================\n",
      "Observations within a cluster are modeled as being independent.\n"
     ]
    }
   ],
   "source": [
    "import matplotlib.pyplot as plt\n",
    "%matplotlib inline\n",
    "import numpy as np\n",
    "import pandas as pd\n",
    "from statsmodels.genmod.generalized_estimating_equations import GEE\n",
    "from statsmodels.genmod.cov_struct import (Exchangeable,\n",
    "    Independence,Autoregressive)\n",
    "from statsmodels.genmod.families import Poisson\n",
    "fam = Poisson()\n",
    "ind = Independence()\n",
    "model1 = GEE.from_formula(\"y ~ time + trt + baseline\", \"trt\", data, cov_struct=ind, family=fam)\n",
    "result1 = model1.fit()\n",
    "print(result1.summary())\n",
    "print(ind.summary())"
   ]
  },
  {
   "cell_type": "markdown",
   "metadata": {},
   "source": [
    "As seen by the scale : it's clearly not a case of over dispersion\n",
    "Tried with independence above , now with exchangeable\n",
    "\n",
    "We also observe in the below summary that : There is no correlation within the cluster"
   ]
  },
  {
   "cell_type": "code",
   "execution_count": 28,
   "metadata": {},
   "outputs": [
    {
     "name": "stdout",
     "output_type": "stream",
     "text": [
      "                               GEE Regression Results                              \n",
      "===================================================================================\n",
      "Dep. Variable:                           y   No. Observations:                  888\n",
      "Model:                                 GEE   No. clusters:                      301\n",
      "Method:                        Generalized   Min. cluster size:                   1\n",
      "                      Estimating Equations   Max. cluster size:                   3\n",
      "Family:                            Poisson   Mean cluster size:                 3.0\n",
      "Dependence structure:         Independence   Num. iterations:                     2\n",
      "Date:                     Tue, 10 Mar 2020   Scale:                           1.000\n",
      "Covariance type:                    robust   Time:                         18:44:06\n",
      "==============================================================================\n",
      "                 coef    std err          z      P>|z|      [0.025      0.975]\n",
      "------------------------------------------------------------------------------\n",
      "Intercept      0.6334      0.062     10.200      0.000       0.512       0.755\n",
      "time           0.0133      0.004      3.287      0.001       0.005       0.021\n",
      "trt            0.0920      0.025      3.691      0.000       0.043       0.141\n",
      "baseline       0.1230      0.015      8.172      0.000       0.093       0.152\n",
      "==============================================================================\n",
      "Skew:                         -0.1086   Kurtosis:                       0.0157\n",
      "Centered skew:                -0.1014   Centered kurtosis:              0.9282\n",
      "==============================================================================\n",
      "The correlation between two observations in the same cluster is 0.000\n"
     ]
    }
   ],
   "source": [
    "import statsmodels.api as sm\n",
    "import statsmodels.formula.api as smf\n",
    "\n",
    "fam = sm.families.Poisson()\n",
    "\n",
    "ind = sm.cov_struct.Exchangeable()\n",
    "\n",
    "mod = smf.gee(\"y~time+trt+baseline\", \"id\",data, family=fam,)\n",
    "res = mod.fit()\n",
    "print(res.summary())\n",
    "print(ind.summary())"
   ]
  },
  {
   "cell_type": "code",
   "execution_count": 29,
   "metadata": {},
   "outputs": [
    {
     "name": "stdout",
     "output_type": "stream",
     "text": [
      "                           OrdinalGEE Regression Results                           \n",
      "===================================================================================\n",
      "Dep. Variable:                           y   No. Observations:                 3552\n",
      "Model:                          OrdinalGEE   No. clusters:                      296\n",
      "Method:                        Generalized   Min. cluster size:                  12\n",
      "                      Estimating Equations   Max. cluster size:                  12\n",
      "Family:                           Binomial   Mean cluster size:                12.0\n",
      "Dependence structure:         Exchangeable   Num. iterations:                    14\n",
      "Date:                     Tue, 10 Mar 2020   Scale:                           1.000\n",
      "Covariance type:                    robust   Time:                         18:45:48\n",
      "==============================================================================\n",
      "                 coef    std err          z      P>|z|      [0.025      0.975]\n",
      "------------------------------------------------------------------------------\n",
      "I(y>1.0)       2.2627   3.63e+07   6.23e-08      1.000   -7.11e+07    7.11e+07\n",
      "I(y>2.0)       0.2084   3.63e+07   5.74e-09      1.000   -7.11e+07    7.11e+07\n",
      "I(y>3.0)      -1.7799   3.06e+07  -5.82e-08      1.000      -6e+07       6e+07\n",
      "I(y>4.0)      -3.9839   2.45e+07  -1.63e-07      1.000    -4.8e+07     4.8e+07\n",
      "Intercept     -2.5903   2.95e+07  -8.79e-08      1.000   -5.78e+07    5.78e+07\n",
      "time           0.0906      0.033      2.739      0.006       0.026       0.155\n",
      "trt            0.5271      0.155      3.391      0.001       0.222       0.832\n",
      "baseline       0.9719      0.099      9.858      0.000       0.779       1.165\n",
      "==============================================================================\n",
      "Skew:                         -0.0564   Kurtosis:                       1.1248\n",
      "Centered skew:                -0.0652   Centered kurtosis:              0.2809\n",
      "==============================================================================\n"
     ]
    }
   ],
   "source": [
    "# This is implemented by OrdinalGEE since the response is a ordinal variable importing packages :\n",
    "# statsmodels.api & statsmodels.formula.api in the class :\n",
    "# statsmodels.genmod.generalized_estimating_equations.OrdinalGEE\n",
    "\n",
    "#Applying ordinal GEE here :\n",
    "\n",
    "import statsmodels.formula.api as smf\n",
    "model = smf.ordinal_gee(\"y ~time + trt + baseline \", \"id\", data,\n",
    "                                cov_struct=ind)\n",
    "result = model.fit()\n",
    "print(result.summary())\n",
    "\n",
    "# The effects of the 5 months follow-up indicator, of the drug auranofin (Treatment group 2), \n",
    "# and of the indicators of the baseline response level 3 or higher (3,4,5) are statistically significant\n",
    "\n",
    "# Conclusion :\n",
    "# The drug auranofin (treatment group 2) improved the self-assessment during the trial, \n",
    "# as subjects in the treatment group have estimated cumulative odds : 1.67 times those of subjects in the placebo group. "
   ]
  },
  {
   "cell_type": "markdown",
   "metadata": {},
   "source": [
    "# Answer to Question: 20 "
   ]
  },
  {
   "cell_type": "markdown",
   "metadata": {},
   "source": [
    "Linear Mixed Effects models are used for regression analyses involving dependent data. Such data arise when working with longitudinal and other study designs in which multiple observations are made on each subject. Some specific linear mixed effects models are\n",
    "\n",
    "Random intercepts models, where all responses in a group are additively shifted by a value that is specific to the group.\n",
    "\n",
    "Random slopes models, where the responses in a group follow a (conditional) mean trajectory that is linear in the observed covariates, with the slopes (and possibly intercepts) varying by group.\n",
    "\n",
    "Variance components models, where the levels of one or more categorical covariates are associated with draws from distributions. These random terms additively determine the conditional mean of each observation based on its covariate values."
   ]
  },
  {
   "cell_type": "markdown",
   "metadata": {},
   "source": [
    "import statsmodels.api as sm\n",
    "\n",
    "import statsmodels.formula.api as smf\n",
    "\n",
    "\"mixedlm\" is used for GLMM methods in Python"
   ]
  }
 ],
 "metadata": {
  "kernelspec": {
   "display_name": "Python 3",
   "language": "python",
   "name": "python3"
  },
  "language_info": {
   "codemirror_mode": {
    "name": "ipython",
    "version": 3
   },
   "file_extension": ".py",
   "mimetype": "text/x-python",
   "name": "python",
   "nbconvert_exporter": "python",
   "pygments_lexer": "ipython3",
   "version": "3.8.3"
  }
 },
 "nbformat": 4,
 "nbformat_minor": 2
}
