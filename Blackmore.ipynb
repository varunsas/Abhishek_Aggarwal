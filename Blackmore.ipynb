{
 "cells": [
  {
   "cell_type": "markdown",
   "metadata": {},
   "source": [
    "# Answer to Question 1 :\n",
    "Reading the csv file using pandas and storing it in a dataframe"
   ]
  },
  {
   "cell_type": "code",
   "execution_count": 206,
   "metadata": {},
   "outputs": [],
   "source": [
    "import pandas as pd\n",
    "data = pd.read_csv(\"C:\\\\Users\\\\VISHAL\\\\Documents\\\\Case Studies_10K\\\\Datasets-20200307T133324Z-001\\\\Datasets\\\\Blackmore.csv\", header=0, infer_datetime_format=True, parse_dates=[0], index_col=[0])"
   ]
  },
  {
   "cell_type": "code",
   "execution_count": 133,
   "metadata": {},
   "outputs": [
    {
     "data": {
      "text/plain": [
       "(945, 4)"
      ]
     },
     "execution_count": 133,
     "metadata": {},
     "output_type": "execute_result"
    }
   ],
   "source": [
    "# Checking the shape of the data (dimensions)\n",
    "data.shape\n",
    "\n",
    "# 945 rows and 4 columns"
   ]
  },
  {
   "cell_type": "code",
   "execution_count": 134,
   "metadata": {},
   "outputs": [
    {
     "data": {
      "text/html": [
       "<div>\n",
       "<style scoped>\n",
       "    .dataframe tbody tr th:only-of-type {\n",
       "        vertical-align: middle;\n",
       "    }\n",
       "\n",
       "    .dataframe tbody tr th {\n",
       "        vertical-align: top;\n",
       "    }\n",
       "\n",
       "    .dataframe thead th {\n",
       "        text-align: right;\n",
       "    }\n",
       "</style>\n",
       "<table border=\"1\" class=\"dataframe\">\n",
       "  <thead>\n",
       "    <tr style=\"text-align: right;\">\n",
       "      <th></th>\n",
       "      <th>subject</th>\n",
       "      <th>age</th>\n",
       "      <th>exercise</th>\n",
       "      <th>group</th>\n",
       "    </tr>\n",
       "  </thead>\n",
       "  <tbody>\n",
       "    <tr>\n",
       "      <td>1</td>\n",
       "      <td>100</td>\n",
       "      <td>8.00</td>\n",
       "      <td>2.71</td>\n",
       "      <td>patient</td>\n",
       "    </tr>\n",
       "    <tr>\n",
       "      <td>2</td>\n",
       "      <td>100</td>\n",
       "      <td>10.00</td>\n",
       "      <td>1.94</td>\n",
       "      <td>patient</td>\n",
       "    </tr>\n",
       "    <tr>\n",
       "      <td>3</td>\n",
       "      <td>100</td>\n",
       "      <td>12.00</td>\n",
       "      <td>2.36</td>\n",
       "      <td>patient</td>\n",
       "    </tr>\n",
       "    <tr>\n",
       "      <td>4</td>\n",
       "      <td>100</td>\n",
       "      <td>14.00</td>\n",
       "      <td>1.54</td>\n",
       "      <td>patient</td>\n",
       "    </tr>\n",
       "    <tr>\n",
       "      <td>5</td>\n",
       "      <td>100</td>\n",
       "      <td>15.92</td>\n",
       "      <td>8.63</td>\n",
       "      <td>patient</td>\n",
       "    </tr>\n",
       "  </tbody>\n",
       "</table>\n",
       "</div>"
      ],
      "text/plain": [
       "  subject    age  exercise    group\n",
       "1     100   8.00      2.71  patient\n",
       "2     100  10.00      1.94  patient\n",
       "3     100  12.00      2.36  patient\n",
       "4     100  14.00      1.54  patient\n",
       "5     100  15.92      8.63  patient"
      ]
     },
     "execution_count": 134,
     "metadata": {},
     "output_type": "execute_result"
    }
   ],
   "source": [
    "data.head()"
   ]
  },
  {
   "cell_type": "markdown",
   "metadata": {},
   "source": [
    "# Answer to Question 2 :"
   ]
  },
  {
   "cell_type": "markdown",
   "metadata": {},
   "source": [
    "\n",
    "The key objective of the case study is :\n",
    "Model to determine the typical trajectory of exercise over time and does it differ b/w eating disordered and control subject groups\n",
    "\n",
    "The response variable : exercise\n",
    "The data collected in the given excel file is grouped under which data class : \"Longitudinal or Panel Data\"\n",
    "\n"
   ]
  },
  {
   "cell_type": "markdown",
   "metadata": {},
   "source": [
    "# Answer to Question 3 :"
   ]
  },
  {
   "cell_type": "code",
   "execution_count": 135,
   "metadata": {},
   "outputs": [
    {
     "data": {
      "text/html": [
       "<div>\n",
       "<style scoped>\n",
       "    .dataframe tbody tr th:only-of-type {\n",
       "        vertical-align: middle;\n",
       "    }\n",
       "\n",
       "    .dataframe tbody tr th {\n",
       "        vertical-align: top;\n",
       "    }\n",
       "\n",
       "    .dataframe thead th {\n",
       "        text-align: right;\n",
       "    }\n",
       "</style>\n",
       "<table border=\"1\" class=\"dataframe\">\n",
       "  <thead>\n",
       "    <tr style=\"text-align: right;\">\n",
       "      <th></th>\n",
       "      <th>age</th>\n",
       "      <th>exercise</th>\n",
       "    </tr>\n",
       "  </thead>\n",
       "  <tbody>\n",
       "    <tr>\n",
       "      <td>count</td>\n",
       "      <td>945.000000</td>\n",
       "      <td>945.000000</td>\n",
       "    </tr>\n",
       "    <tr>\n",
       "      <td>mean</td>\n",
       "      <td>11.441661</td>\n",
       "      <td>2.530646</td>\n",
       "    </tr>\n",
       "    <tr>\n",
       "      <td>std</td>\n",
       "      <td>2.765609</td>\n",
       "      <td>3.495086</td>\n",
       "    </tr>\n",
       "    <tr>\n",
       "      <td>min</td>\n",
       "      <td>8.000000</td>\n",
       "      <td>0.000000</td>\n",
       "    </tr>\n",
       "    <tr>\n",
       "      <td>25%</td>\n",
       "      <td>10.000000</td>\n",
       "      <td>0.400000</td>\n",
       "    </tr>\n",
       "    <tr>\n",
       "      <td>50%</td>\n",
       "      <td>12.000000</td>\n",
       "      <td>1.330000</td>\n",
       "    </tr>\n",
       "    <tr>\n",
       "      <td>75%</td>\n",
       "      <td>14.000000</td>\n",
       "      <td>3.040000</td>\n",
       "    </tr>\n",
       "    <tr>\n",
       "      <td>max</td>\n",
       "      <td>17.920000</td>\n",
       "      <td>29.960000</td>\n",
       "    </tr>\n",
       "  </tbody>\n",
       "</table>\n",
       "</div>"
      ],
      "text/plain": [
       "              age    exercise\n",
       "count  945.000000  945.000000\n",
       "mean    11.441661    2.530646\n",
       "std      2.765609    3.495086\n",
       "min      8.000000    0.000000\n",
       "25%     10.000000    0.400000\n",
       "50%     12.000000    1.330000\n",
       "75%     14.000000    3.040000\n",
       "max     17.920000   29.960000"
      ]
     },
     "execution_count": 135,
     "metadata": {},
     "output_type": "execute_result"
    }
   ],
   "source": [
    "data.describe()"
   ]
  },
  {
   "cell_type": "code",
   "execution_count": 136,
   "metadata": {},
   "outputs": [],
   "source": [
    "# Observations :\n",
    "# The mean age of the subject is 11.44 years with min being 8 out of the 138 teenage girls\n",
    "# For exercise : mean is 2.5 hrs."
   ]
  },
  {
   "cell_type": "code",
   "execution_count": 137,
   "metadata": {},
   "outputs": [
    {
     "data": {
      "text/plain": [
       "subject      object\n",
       "age         float64\n",
       "exercise    float64\n",
       "group        object\n",
       "dtype: object"
      ]
     },
     "execution_count": 137,
     "metadata": {},
     "output_type": "execute_result"
    }
   ],
   "source": [
    "data.dtypes\n",
    "# Here : subject and group are objects whereas the rest are numeric"
   ]
  },
  {
   "cell_type": "markdown",
   "metadata": {},
   "source": [
    "# Answer to Question 4 :\n",
    "\n",
    "Plotting a histogram for the variable 'Age'"
   ]
  },
  {
   "cell_type": "code",
   "execution_count": 138,
   "metadata": {},
   "outputs": [
    {
     "data": {
      "text/plain": [
       "<matplotlib.axes._subplots.AxesSubplot at 0x1f4f06297c8>"
      ]
     },
     "execution_count": 138,
     "metadata": {},
     "output_type": "execute_result"
    },
    {
     "data": {
      "image/png": "[encoded data removed]",
      "text/plain": [
       "<Figure size 432x288 with 1 Axes>"
      ]
     },
     "metadata": {
      "needs_background": "light"
     },
     "output_type": "display_data"
    }
   ],
   "source": [
    "data.round({\"age\":0}) \n",
    "data['age'].hist(bins=5)"
   ]
  },
  {
   "cell_type": "markdown",
   "metadata": {},
   "source": [
    "Observations :\n",
    "Clearly seen, Age 8 is the min age to be kept as baseline in the model has max observations \n",
    "Age (8-12) has the maximum observations"
   ]
  },
  {
   "cell_type": "markdown",
   "metadata": {},
   "source": [
    "# Answer to Question 5 :\n",
    "Exercise Histories of Eating Disordered and Control Subjects"
   ]
  },
  {
   "cell_type": "code",
   "execution_count": 139,
   "metadata": {},
   "outputs": [
    {
     "data": {
      "text/plain": [
       "<matplotlib.legend.Legend at 0x1f4f1bd5848>"
      ]
     },
     "execution_count": 139,
     "metadata": {},
     "output_type": "execute_result"
    },
    {
     "data": {
      "image/png": "[encoded data removed]",
      "text/plain": [
       "<Figure size 360x360 with 1 Axes>"
      ]
     },
     "metadata": {
      "needs_background": "light"
     },
     "output_type": "display_data"
    }
   ],
   "source": [
    "import seaborn as sns\n",
    " \n",
    "# Use the 'hue' argument to provide a factor variable\n",
    "sns.lmplot( x=\"age\", y=\"exercise\", data=data, fit_reg=False, hue='group', legend=False)\n",
    " \n",
    "# Move the legend to an empty part of the plot\n",
    "plt.legend(loc='lower right')\n"
   ]
  },
  {
   "cell_type": "markdown",
   "metadata": {},
   "source": [
    "# Answer to Question 6 :"
   ]
  },
  {
   "cell_type": "markdown",
   "metadata": {},
   "source": [
    "The scatterplot above shows an obvious peak in hours of exercise for both study groups at around age 15. \n",
    "These results may occur because of the start of high school around this age, which can push these young women to care more about their appearance to fit the societal perception of beauty. \n",
    "Their exercise hours increase as a result which endangers those who have already been diagnosed with an eating disorder.\n"
   ]
  },
  {
   "cell_type": "markdown",
   "metadata": {},
   "source": [
    "# Answer to Question 7:"
   ]
  },
  {
   "cell_type": "code",
   "execution_count": 140,
   "metadata": {},
   "outputs": [
    {
     "name": "stdout",
     "output_type": "stream",
     "text": [
      "  subject  age  exercise    group\n",
      "1     100    8      2.71  patient\n",
      "2     100   10      1.94  patient\n",
      "3     100   12      2.36  patient\n",
      "4     100   14      1.54  patient\n",
      "5     100   15      8.63  patient\n"
     ]
    }
   ],
   "source": [
    "import pandas as pd\n",
    "import os\n",
    "import numpy as np\n",
    "data= (\n",
    "    data.assign(age=lambda df: np.floor(df['age']).astype('int')))\n",
    "\n",
    "\n",
    "(data\n",
    "   .head()\n",
    "   .pipe(print))"
   ]
  },
  {
   "cell_type": "markdown",
   "metadata": {},
   "source": [
    "# Answer to Question 8 :"
   ]
  },
  {
   "cell_type": "code",
   "execution_count": 141,
   "metadata": {},
   "outputs": [
    {
     "name": "stdout",
     "output_type": "stream",
     "text": [
      "      group  age  exercise\n",
      "0   control   11  1.520000\n",
      "1   control   12  1.730714\n",
      "2   control   13  1.424545\n",
      "3   control   14  2.381875\n",
      "4   control   15  2.240588\n",
      "5   control   16  2.505000\n",
      "6   control   17  2.124444\n",
      "7   patient   11  1.840000\n",
      "8   patient   12  6.096000\n",
      "9   patient   13  5.124211\n",
      "10  patient   14  5.185667\n",
      "11  patient   15  8.282857\n",
      "12  patient   16  5.473488\n",
      "13  patient   17  6.395000\n"
     ]
    }
   ],
   "source": [
    "last_age = (\n",
    "    data.sort_values(['subject', 'age'])\n",
    "        .groupby('subject')\n",
    "        .tail(1)\n",
    "        .reset_index()\n",
    "        )\n",
    "\n",
    "mean_last_age_exercise = (\n",
    "    last_age \n",
    "        .groupby(['group', 'age'])\n",
    "        ['exercise']\n",
    "        .mean()\n",
    "        .reset_index()\n",
    "        )\n",
    "\n",
    "(mean_last_age_exercise\n",
    "   .pipe(print))"
   ]
  },
  {
   "cell_type": "markdown",
   "metadata": {},
   "source": [
    "# Answer to Question 9:"
   ]
  },
  {
   "cell_type": "code",
   "execution_count": 142,
   "metadata": {},
   "outputs": [
    {
     "name": "stdout",
     "output_type": "stream",
     "text": [
      "group   control   patient\n",
      "age                      \n",
      "11     1.520000  1.840000\n",
      "12     1.730714  6.096000\n",
      "13     1.424545  5.124211\n",
      "14     2.381875  5.185667\n",
      "15     2.240588  8.282857\n",
      "16     2.505000  5.473488\n",
      "17     2.124444  6.395000\n"
     ]
    }
   ],
   "source": [
    "mean_last_age_exercise = (\n",
    "    last_age \n",
    "        .groupby(['group', 'age'])\n",
    "        ['exercise']\n",
    "        .mean()\n",
    "        .reset_index()\n",
    "        .pivot(index='age', columns='group', values='exercise')\n",
    "        )\n",
    "\n",
    "(mean_last_age_exercise\n",
    "   .pipe(print))"
   ]
  },
  {
   "cell_type": "markdown",
   "metadata": {},
   "source": [
    "# Answer to Question 10:"
   ]
  },
  {
   "cell_type": "code",
   "execution_count": 143,
   "metadata": {},
   "outputs": [
    {
     "name": "stdout",
     "output_type": "stream",
     "text": [
      "     group age  exercise     \n",
      "                    mean size\n",
      "0  control  11  1.520000    1\n",
      "1  control  12  1.730714   14\n",
      "2  control  13  1.424545   22\n",
      "3  control  14  2.381875   16\n",
      "4  control  15  2.240588   17\n",
      "['group', 'age', 'mean', 'size']\n"
     ]
    }
   ],
   "source": [
    "mean_last_age_exercise = (\n",
    "    last_age \n",
    "        .groupby(['group', 'age'])\n",
    "        .aggregate(\n",
    "            {'exercise': ['mean', 'size']})\n",
    "        .reset_index()\n",
    "        .rename_axis(None, axis='index')\n",
    "        )\n",
    "print(mean_last_age_exercise.head())\n",
    "\n",
    "flat_col = [t[0] if t[1] == '' else t[1] for t in\n",
    "    mean_last_age_exercise.columns]\n",
    "print(flat_col)"
   ]
  },
  {
   "cell_type": "code",
   "execution_count": 144,
   "metadata": {},
   "outputs": [
    {
     "name": "stdout",
     "output_type": "stream",
     "text": [
      "      age      mean              size        \n",
      "group       control   patient control patient\n",
      "0      11  1.520000  1.840000     1.0     1.0\n",
      "1      12  1.730714  6.096000    14.0     5.0\n",
      "2      13  1.424545  5.124211    22.0    19.0\n",
      "3      14  2.381875  5.185667    16.0    30.0\n",
      "4      15  2.240588  8.282857    17.0    28.0\n"
     ]
    }
   ],
   "source": [
    "mean_last_age_exercise.columns = flat_col\n",
    "mean_last_age_exercise = (\n",
    "    mean_last_age_exercise \n",
    "        .pivot(\n",
    "            index='age',\n",
    "            columns='group',\n",
    "            values=['mean', 'size'])\n",
    "        .reset_index()\n",
    "        .rename_axis(None, axis='index')\n",
    "        )\n",
    "print(mean_last_age_exercise.head())"
   ]
  },
  {
   "cell_type": "code",
   "execution_count": 145,
   "metadata": {},
   "outputs": [
    {
     "name": "stdout",
     "output_type": "stream",
     "text": [
      "['age', 'control-mean', 'patient-mean', 'control-size', 'patient-size']\n",
      "   age  control-mean  patient-mean  control-size  patient-size\n",
      "0   11      1.520000      1.840000           1.0           1.0\n",
      "1   12      1.730714      6.096000          14.0           5.0\n",
      "2   13      1.424545      5.124211          22.0          19.0\n",
      "3   14      2.381875      5.185667          16.0          30.0\n",
      "4   15      2.240588      8.282857          17.0          28.0\n",
      "5   16      2.505000      5.473488          14.0          43.0\n",
      "6   17      2.124444      6.395000           9.0          12.0\n"
     ]
    }
   ],
   "source": [
    "flat_col = [ t[0] if t[1] == '' else t[1] + '-' + t[0] for t in\n",
    "    mean_last_age_exercise.columns]\n",
    "print(flat_col)\n",
    "\n",
    "mean_last_age_exercise.columns = flat_col\n",
    "\n",
    "(mean_last_age_exercise\n",
    "   .pipe(print))"
   ]
  },
  {
   "cell_type": "markdown",
   "metadata": {},
   "source": [
    "# Answer to Question 11:"
   ]
  },
  {
   "cell_type": "code",
   "execution_count": 152,
   "metadata": {},
   "outputs": [
    {
     "name": "stdout",
     "output_type": "stream",
     "text": [
      "     group  age  size\n",
      "0  control   11     1\n",
      "1  control   12    14\n",
      "2  control   13    22\n",
      "3  control   14    16\n",
      "4  control   15    17\n"
     ]
    },
    {
     "data": {
      "text/plain": [
       "array([[<matplotlib.axes._subplots.AxesSubplot object at 0x000001F4F1DD81C8>]],\n",
       "      dtype=object)"
      ]
     },
     "execution_count": 152,
     "metadata": {},
     "output_type": "execute_result"
    },
    {
     "data": {
      "image/png": "[encoded data removed]",
      "text/plain": [
       "<Figure size 432x288 with 1 Axes>"
      ]
     },
     "metadata": {
      "needs_background": "light"
     },
     "output_type": "display_data"
    }
   ],
   "source": [
    "last_age_group_size = (\n",
    "    last_age \n",
    "        .groupby(['group', 'age'])\n",
    "        ['exercise']\n",
    "        .size()\n",
    "        .reset_index()\n",
    "        .rename(columns={'exercise': 'size'})\n",
    "        )\n",
    "print(last_age_group_size.head())\n",
    "\n",
    "last_age_group_size.hist('size')"
   ]
  },
  {
   "cell_type": "markdown",
   "metadata": {},
   "source": [
    "# Answer to Question 12 :"
   ]
  },
  {
   "cell_type": "code",
   "execution_count": 153,
   "metadata": {},
   "outputs": [
    {
     "name": "stdout",
     "output_type": "stream",
     "text": [
      "     group  exercise\n",
      "0  control  1.640641\n",
      "1  patient  3.075887\n"
     ]
    }
   ],
   "source": [
    "mean_exercise = (\n",
    "    data.groupby('group')\n",
    "        ['exercise']\n",
    "        .mean()\n",
    "        .reset_index())\n",
    "\n",
    "(mean_exercise\n",
    "   .pipe(print))"
   ]
  },
  {
   "cell_type": "markdown",
   "metadata": {},
   "source": [
    "# Answer to Question 13 :"
   ]
  },
  {
   "cell_type": "code",
   "execution_count": 154,
   "metadata": {},
   "outputs": [
    {
     "data": {
      "text/plain": [
       "<matplotlib.axes._subplots.AxesSubplot at 0x1f4f1e40e88>"
      ]
     },
     "execution_count": 154,
     "metadata": {},
     "output_type": "execute_result"
    },
    {
     "data": {
      "image/png": "[encoded data removed]",
      "text/plain": [
       "<Figure size 576x576 with 1 Axes>"
      ]
     },
     "metadata": {
      "needs_background": "light"
     },
     "output_type": "display_data"
    }
   ],
   "source": [
    "data.boxplot(column=\"exercise\",        # Column to plot\n",
    "                 by= \"group\",         # Column to split upon\n",
    "                 figsize= (8,8))        # Figure size"
   ]
  },
  {
   "cell_type": "markdown",
   "metadata": {},
   "source": [
    "# Answer to Question 14 :"
   ]
  },
  {
   "cell_type": "markdown",
   "metadata": {},
   "source": [
    "Observations :\n",
    "The hours of exercise per week for the anorexic patients vary from 0 to 30, with many results in the higher range. \n",
    "The hours of exercise per week for the control group vary from 0 to 12 with many results clumped in the 0 to 5 range. \n",
    "As shown in the above plot : the mean of the patients’ hours of exercise is 3.075887 while the control group’s is 1.640641.\n",
    "\n",
    "From this data we can conclude: \n",
    "The hours of exercise for anorexic patients vary at much higher degrees than the hours for the control group and the hours of exercise peak at high school ages."
   ]
  },
  {
   "cell_type": "markdown",
   "metadata": {},
   "source": [
    "# Answer to Question 15:"
   ]
  },
  {
   "cell_type": "code",
   "execution_count": 161,
   "metadata": {},
   "outputs": [
    {
     "data": {
      "text/html": [
       "<div>\n",
       "<style scoped>\n",
       "    .dataframe tbody tr th:only-of-type {\n",
       "        vertical-align: middle;\n",
       "    }\n",
       "\n",
       "    .dataframe tbody tr th {\n",
       "        vertical-align: top;\n",
       "    }\n",
       "\n",
       "    .dataframe thead th {\n",
       "        text-align: right;\n",
       "    }\n",
       "</style>\n",
       "<table border=\"1\" class=\"dataframe\">\n",
       "  <thead>\n",
       "    <tr style=\"text-align: right;\">\n",
       "      <th></th>\n",
       "      <th>subject</th>\n",
       "      <th>group</th>\n",
       "      <th>exercise</th>\n",
       "    </tr>\n",
       "  </thead>\n",
       "  <tbody>\n",
       "    <tr>\n",
       "      <td>1</td>\n",
       "      <td>100</td>\n",
       "      <td>patient</td>\n",
       "      <td>2.71</td>\n",
       "    </tr>\n",
       "    <tr>\n",
       "      <td>2</td>\n",
       "      <td>100</td>\n",
       "      <td>patient</td>\n",
       "      <td>1.94</td>\n",
       "    </tr>\n",
       "    <tr>\n",
       "      <td>3</td>\n",
       "      <td>100</td>\n",
       "      <td>patient</td>\n",
       "      <td>2.36</td>\n",
       "    </tr>\n",
       "    <tr>\n",
       "      <td>4</td>\n",
       "      <td>100</td>\n",
       "      <td>patient</td>\n",
       "      <td>1.54</td>\n",
       "    </tr>\n",
       "    <tr>\n",
       "      <td>5</td>\n",
       "      <td>100</td>\n",
       "      <td>patient</td>\n",
       "      <td>8.63</td>\n",
       "    </tr>\n",
       "  </tbody>\n",
       "</table>\n",
       "</div>"
      ],
      "text/plain": [
       "  subject    group  exercise\n",
       "1     100  patient      2.71\n",
       "2     100  patient      1.94\n",
       "3     100  patient      2.36\n",
       "4     100  patient      1.54\n",
       "5     100  patient      8.63"
      ]
     },
     "execution_count": 161,
     "metadata": {},
     "output_type": "execute_result"
    }
   ],
   "source": [
    "new_df=data[['subject','group','exercise']]\n",
    "new_df.head()"
   ]
  },
  {
   "cell_type": "code",
   "execution_count": 170,
   "metadata": {},
   "outputs": [
    {
     "data": {
      "text/html": [
       "<div>\n",
       "<style scoped>\n",
       "    .dataframe tbody tr th:only-of-type {\n",
       "        vertical-align: middle;\n",
       "    }\n",
       "\n",
       "    .dataframe tbody tr th {\n",
       "        vertical-align: top;\n",
       "    }\n",
       "\n",
       "    .dataframe thead th {\n",
       "        text-align: right;\n",
       "    }\n",
       "</style>\n",
       "<table border=\"1\" class=\"dataframe\">\n",
       "  <thead>\n",
       "    <tr style=\"text-align: right;\">\n",
       "      <th></th>\n",
       "      <th>subject</th>\n",
       "      <th>age</th>\n",
       "      <th>exercise</th>\n",
       "      <th>group</th>\n",
       "    </tr>\n",
       "  </thead>\n",
       "  <tbody>\n",
       "    <tr>\n",
       "      <td>1</td>\n",
       "      <td>100</td>\n",
       "      <td>8</td>\n",
       "      <td>2.71</td>\n",
       "      <td>patient</td>\n",
       "    </tr>\n",
       "    <tr>\n",
       "      <td>2</td>\n",
       "      <td>100</td>\n",
       "      <td>10</td>\n",
       "      <td>1.94</td>\n",
       "      <td>patient</td>\n",
       "    </tr>\n",
       "    <tr>\n",
       "      <td>3</td>\n",
       "      <td>100</td>\n",
       "      <td>12</td>\n",
       "      <td>2.36</td>\n",
       "      <td>patient</td>\n",
       "    </tr>\n",
       "    <tr>\n",
       "      <td>4</td>\n",
       "      <td>100</td>\n",
       "      <td>14</td>\n",
       "      <td>1.54</td>\n",
       "      <td>patient</td>\n",
       "    </tr>\n",
       "    <tr>\n",
       "      <td>5</td>\n",
       "      <td>100</td>\n",
       "      <td>15</td>\n",
       "      <td>8.63</td>\n",
       "      <td>patient</td>\n",
       "    </tr>\n",
       "  </tbody>\n",
       "</table>\n",
       "</div>"
      ],
      "text/plain": [
       "  subject  age  exercise    group\n",
       "1     100    8      2.71  patient\n",
       "2     100   10      1.94  patient\n",
       "3     100   12      2.36  patient\n",
       "4     100   14      1.54  patient\n",
       "5     100   15      8.63  patient"
      ]
     },
     "execution_count": 170,
     "metadata": {},
     "output_type": "execute_result"
    }
   ],
   "source": [
    "data.head()"
   ]
  },
  {
   "cell_type": "markdown",
   "metadata": {},
   "source": [
    "# Answer to Question 16:"
   ]
  },
  {
   "cell_type": "code",
   "execution_count": 208,
   "metadata": {},
   "outputs": [
    {
     "data": {
      "text/plain": [
       "112"
      ]
     },
     "execution_count": 208,
     "metadata": {},
     "output_type": "execute_result"
    }
   ],
   "source": [
    "data['exercise_0'] = data['exercise'].apply(lambda x: 1 if x == 0 else 0)\n",
    "data['exercise_0'].sum()\n",
    "\n",
    "# There are 112 observations having 0 value in exercise"
   ]
  },
  {
   "cell_type": "code",
   "execution_count": 209,
   "metadata": {},
   "outputs": [
    {
     "data": {
      "text/html": [
       "<div>\n",
       "<style scoped>\n",
       "    .dataframe tbody tr th:only-of-type {\n",
       "        vertical-align: middle;\n",
       "    }\n",
       "\n",
       "    .dataframe tbody tr th {\n",
       "        vertical-align: top;\n",
       "    }\n",
       "\n",
       "    .dataframe thead th {\n",
       "        text-align: right;\n",
       "    }\n",
       "</style>\n",
       "<table border=\"1\" class=\"dataframe\">\n",
       "  <thead>\n",
       "    <tr style=\"text-align: right;\">\n",
       "      <th></th>\n",
       "      <th>subject</th>\n",
       "      <th>age</th>\n",
       "      <th>exercise</th>\n",
       "      <th>group</th>\n",
       "      <th>exercise_log</th>\n",
       "      <th>exercise_0</th>\n",
       "    </tr>\n",
       "  </thead>\n",
       "  <tbody>\n",
       "    <tr>\n",
       "      <td>1</td>\n",
       "      <td>100</td>\n",
       "      <td>8.00</td>\n",
       "      <td>2.71</td>\n",
       "      <td>patient</td>\n",
       "      <td>1.481988</td>\n",
       "      <td>0</td>\n",
       "    </tr>\n",
       "    <tr>\n",
       "      <td>2</td>\n",
       "      <td>100</td>\n",
       "      <td>10.00</td>\n",
       "      <td>1.94</td>\n",
       "      <td>patient</td>\n",
       "      <td>1.016734</td>\n",
       "      <td>0</td>\n",
       "    </tr>\n",
       "    <tr>\n",
       "      <td>3</td>\n",
       "      <td>100</td>\n",
       "      <td>12.00</td>\n",
       "      <td>2.36</td>\n",
       "      <td>patient</td>\n",
       "      <td>1.288851</td>\n",
       "      <td>0</td>\n",
       "    </tr>\n",
       "    <tr>\n",
       "      <td>4</td>\n",
       "      <td>100</td>\n",
       "      <td>14.00</td>\n",
       "      <td>1.54</td>\n",
       "      <td>patient</td>\n",
       "      <td>0.698959</td>\n",
       "      <td>0</td>\n",
       "    </tr>\n",
       "    <tr>\n",
       "      <td>5</td>\n",
       "      <td>100</td>\n",
       "      <td>15.92</td>\n",
       "      <td>8.63</td>\n",
       "      <td>patient</td>\n",
       "      <td>3.123225</td>\n",
       "      <td>0</td>\n",
       "    </tr>\n",
       "  </tbody>\n",
       "</table>\n",
       "</div>"
      ],
      "text/plain": [
       "  subject    age  exercise    group  exercise_log  exercise_0\n",
       "1     100   8.00      2.71  patient      1.481988           0\n",
       "2     100  10.00      1.94  patient      1.016734           0\n",
       "3     100  12.00      2.36  patient      1.288851           0\n",
       "4     100  14.00      1.54  patient      0.698959           0\n",
       "5     100  15.92      8.63  patient      3.123225           0"
      ]
     },
     "execution_count": 209,
     "metadata": {},
     "output_type": "execute_result"
    }
   ],
   "source": [
    "import math\n",
    "data['exercise_log'] = np.log2(5/60 + data.exercise)\n",
    "data.head()"
   ]
  },
  {
   "cell_type": "markdown",
   "metadata": {},
   "source": [
    "# Answer to Question 17:"
   ]
  },
  {
   "cell_type": "code",
   "execution_count": 210,
   "metadata": {},
   "outputs": [
    {
     "data": {
      "text/plain": [
       "<matplotlib.axes._subplots.AxesSubplot at 0x1f4f3999048>"
      ]
     },
     "execution_count": 210,
     "metadata": {},
     "output_type": "execute_result"
    },
    {
     "data": {
      "image/png": "[encoded data removed]",
      "text/plain": [
       "<Figure size 576x576 with 1 Axes>"
      ]
     },
     "metadata": {
      "needs_background": "light"
     },
     "output_type": "display_data"
    }
   ],
   "source": [
    "data.boxplot(column=\"exercise_log\",        # Column to plot\n",
    "                 by= \"group\",         # Column to split upon\n",
    "                 figsize= (8,8))        # Figure size"
   ]
  },
  {
   "cell_type": "markdown",
   "metadata": {},
   "source": [
    "Lot of outliers : were observed in the previous plot of exercise vs group box plot compared to the plot above there isn't any as we normalised the exercise variable by log\n",
    "Here : as we see median of patient is higher than that of the control group"
   ]
  },
  {
   "cell_type": "markdown",
   "metadata": {},
   "source": [
    "# Answer to Question 18:"
   ]
  },
  {
   "cell_type": "markdown",
   "metadata": {},
   "source": [
    "The observations per subject is small. Hence, we should not be expecting very good estimates of the within subject regression coefficients by OLS  method.  \n",
    "That’s why we go for the mixed models as they can provide the improved estimates of the within subjects ( Groups ) coefficients \n",
    "and the random effects by pooling information across subjects ."
   ]
  },
  {
   "cell_type": "markdown",
   "metadata": {},
   "source": [
    "# Answer to Question 19:"
   ]
  },
  {
   "cell_type": "code",
   "execution_count": 213,
   "metadata": {},
   "outputs": [
    {
     "name": "stdout",
     "output_type": "stream",
     "text": [
      "                  Mixed Linear Model Regression Results\n",
      "==========================================================================\n",
      "Model:                  MixedLM      Dependent Variable:      exercise_log\n",
      "No. Observations:       945          Method:                  REML        \n",
      "No. Groups:             2            Scale:                   3.7303      \n",
      "Min. group size:        359          Likelihood:              -1968.9061  \n",
      "Max. group size:        586          Converged:               Yes         \n",
      "Mean group size:        472.5                                             \n",
      "--------------------------------------------------------------------------\n",
      "                            Coef.    Std.Err.     z    P>|z| [0.025 0.975]\n",
      "--------------------------------------------------------------------------\n",
      "Intercept                   -0.279        1.938 -0.144 0.886 -4.077  3.520\n",
      "group[T.patient]            -0.316        2.739 -0.115 0.908 -5.685  5.052\n",
      "I(age - 8)                   0.069        1.932  0.036 0.971 -3.717  3.856\n",
      "group[T.patient]:I(age - 8)  0.210        2.732  0.077 0.939 -5.144  5.564\n",
      "Group Var                    3.730 52309891.571                           \n",
      "Group x I(age - 8) Cov       0.000   176723.641                           \n",
      "I(age - 8) Var               3.730 52154611.963                           \n",
      "==========================================================================\n",
      "\n"
     ]
    },
    {
     "name": "stderr",
     "output_type": "stream",
     "text": [
      "C:\\Users\\VISHAL\\Anaconda3\\lib\\site-packages\\statsmodels\\regression\\mixed_linear_model.py:2115: ConvergenceWarning:\n",
      "\n",
      "The Hessian matrix at the estimated parameter values is not positive definite.\n",
      "\n"
     ]
    }
   ],
   "source": [
    "#fit the model\n",
    "mixed = smf.mixedlm(\"exercise_log ~ group * I(age - 8)\", data, groups = data[\"group\"], re_formula=\"~I(age - 8)\")\n",
    "mixed_fit = mixed.fit()\n",
    "#print the summary\n",
    "print(mixed_fit.summary())"
   ]
  },
  {
   "cell_type": "code",
   "execution_count": null,
   "metadata": {},
   "outputs": [],
   "source": []
  },
  {
   "cell_type": "markdown",
   "metadata": {},
   "source": [
    "# Answer to Question 20:"
   ]
  },
  {
   "cell_type": "markdown",
   "metadata": {},
   "source": [
    "There is a small, and marginally statistically significant, average age trend in the control group (represented by the fixed-effect coefficient for age - 8), and a highly significant interaction of\n",
    "age with group, reflecting a much steeper average trend in the patient group. The small and non-significant coefficient for group indicates similar age-8 intercepts for the two groups"
   ]
  }
 ],
 "metadata": {
  "kernelspec": {
   "display_name": "Python 3",
   "language": "python",
   "name": "python3"
  },
  "language_info": {
   "codemirror_mode": {
    "name": "ipython",
    "version": 3
   },
   "file_extension": ".py",
   "mimetype": "text/x-python",
   "name": "python",
   "nbconvert_exporter": "python",
   "pygments_lexer": "ipython3",
   "version": "3.8.3"
  }
 },
 "nbformat": 4,
 "nbformat_minor": 2
}
